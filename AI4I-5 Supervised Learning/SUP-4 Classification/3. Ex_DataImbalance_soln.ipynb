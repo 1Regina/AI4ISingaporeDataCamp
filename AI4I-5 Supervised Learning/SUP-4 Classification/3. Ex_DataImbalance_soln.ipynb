{
 "cells": [
  {
   "cell_type": "markdown",
   "metadata": {},
   "source": [
    "# Classification 2\n",
    "\n",
    "## Exercise 3: Data Balancing"
   ]
  },
  {
   "cell_type": "markdown",
   "metadata": {},
   "source": [
    "### Overview\n",
    "\n",
    "In this exercise, we will explore balancing of our data and see its effect on the models.\n",
    "\n",
    "This notebook is modified directly from the solution of Exercise 2.\n",
    "\n",
    "### Library Imports"
   ]
  },
  {
   "cell_type": "code",
   "execution_count": 1,
   "metadata": {},
   "outputs": [],
   "source": [
    "# Basic Library Imports\n",
    "import numpy as np\n",
    "import pandas as pd\n",
    "import matplotlib.pyplot as plt\n",
    "import seaborn as sn\n",
    "%matplotlib inline"
   ]
  },
  {
   "cell_type": "code",
   "execution_count": 2,
   "metadata": {},
   "outputs": [],
   "source": [
    "# TASK: Import the relevant Scikit-learn functions and Classes as required. You may have to keep modifying this cell as you discover more\n",
    "from sklearn.compose import ColumnTransformer, make_column_transformer\n",
    "from sklearn.pipeline import Pipeline, make_pipeline\n",
    "from sklearn.preprocessing import StandardScaler, OneHotEncoder\n",
    "from sklearn.model_selection import train_test_split\n",
    "from sklearn.neighbors import KNeighborsClassifier\n",
    "from sklearn.metrics import confusion_matrix, precision_score, recall_score, accuracy_score, f1_score, classification_report, roc_curve, auc"
   ]
  },
  {
   "cell_type": "markdown",
   "metadata": {},
   "source": [
    "## Data Ingestion"
   ]
  },
  {
   "cell_type": "code",
   "execution_count": 3,
   "metadata": {},
   "outputs": [],
   "source": [
    "# TASK: Read in the CSV file saved from Exercise 1\n",
    "file_path = \"telco_churn.csv\"\n",
    "# The 1st column of the csv file should be the customer ID, which is loaded in the the Dataframe's index\n",
    "input_data = pd.read_csv(file_path, index_col=0)"
   ]
  },
  {
   "cell_type": "code",
   "execution_count": 4,
   "metadata": {},
   "outputs": [
    {
     "output_type": "execute_result",
     "data": {
      "text/plain": [
       "            Gender SeniorCitizen Partner Dependents  TenureMonths  \\\n",
       "CustomerID                                                          \n",
       "3668-QPYBK    Male            No      No         No             2   \n",
       "9237-HQITU  Female            No      No        Yes             2   \n",
       "9305-CDSKC  Female            No      No        Yes             8   \n",
       "7892-POOKP  Female            No     Yes        Yes            28   \n",
       "0280-XJGEX    Male            No      No        Yes            49   \n",
       "\n",
       "           PhoneService MultipleLines InternetService OnlineSecurity  \\\n",
       "CustomerID                                                             \n",
       "3668-QPYBK          Yes            No             DSL            Yes   \n",
       "9237-HQITU          Yes            No      FiberOptic             No   \n",
       "9305-CDSKC          Yes           Yes      FiberOptic             No   \n",
       "7892-POOKP          Yes           Yes      FiberOptic             No   \n",
       "0280-XJGEX          Yes           Yes      FiberOptic             No   \n",
       "\n",
       "           OnlineBackup DeviceProtection TechSupport StreamingTV  \\\n",
       "CustomerID                                                         \n",
       "3668-QPYBK          Yes               No          No          No   \n",
       "9237-HQITU           No               No          No          No   \n",
       "9305-CDSKC           No              Yes          No         Yes   \n",
       "7892-POOKP           No              Yes         Yes         Yes   \n",
       "0280-XJGEX          Yes              Yes          No         Yes   \n",
       "\n",
       "           StreamingMovies Contract PaperlessBilling PaymentMethod  \\\n",
       "CustomerID                                                           \n",
       "3668-QPYBK              No      M2M              Yes        mcheck   \n",
       "9237-HQITU              No      M2M              Yes        echeck   \n",
       "9305-CDSKC             Yes      M2M              Yes        echeck   \n",
       "7892-POOKP             Yes      M2M              Yes        echeck   \n",
       "0280-XJGEX             Yes      M2M              Yes      transfer   \n",
       "\n",
       "            MonthlyCharges  TotalCharges ChurnLabel  \n",
       "CustomerID                                           \n",
       "3668-QPYBK           53.85        108.15        Yes  \n",
       "9237-HQITU           70.70        151.65        Yes  \n",
       "9305-CDSKC           99.65        820.50        Yes  \n",
       "7892-POOKP          104.80       3046.05        Yes  \n",
       "0280-XJGEX          103.70       5036.30        Yes  "
      ],
      "text/html": "<div>\n<style scoped>\n    .dataframe tbody tr th:only-of-type {\n        vertical-align: middle;\n    }\n\n    .dataframe tbody tr th {\n        vertical-align: top;\n    }\n\n    .dataframe thead th {\n        text-align: right;\n    }\n</style>\n<table border=\"1\" class=\"dataframe\">\n  <thead>\n    <tr style=\"text-align: right;\">\n      <th></th>\n      <th>Gender</th>\n      <th>SeniorCitizen</th>\n      <th>Partner</th>\n      <th>Dependents</th>\n      <th>TenureMonths</th>\n      <th>PhoneService</th>\n      <th>MultipleLines</th>\n      <th>InternetService</th>\n      <th>OnlineSecurity</th>\n      <th>OnlineBackup</th>\n      <th>DeviceProtection</th>\n      <th>TechSupport</th>\n      <th>StreamingTV</th>\n      <th>StreamingMovies</th>\n      <th>Contract</th>\n      <th>PaperlessBilling</th>\n      <th>PaymentMethod</th>\n      <th>MonthlyCharges</th>\n      <th>TotalCharges</th>\n      <th>ChurnLabel</th>\n    </tr>\n    <tr>\n      <th>CustomerID</th>\n      <th></th>\n      <th></th>\n      <th></th>\n      <th></th>\n      <th></th>\n      <th></th>\n      <th></th>\n      <th></th>\n      <th></th>\n      <th></th>\n      <th></th>\n      <th></th>\n      <th></th>\n      <th></th>\n      <th></th>\n      <th></th>\n      <th></th>\n      <th></th>\n      <th></th>\n      <th></th>\n    </tr>\n  </thead>\n  <tbody>\n    <tr>\n      <th>3668-QPYBK</th>\n      <td>Male</td>\n      <td>No</td>\n      <td>No</td>\n      <td>No</td>\n      <td>2</td>\n      <td>Yes</td>\n      <td>No</td>\n      <td>DSL</td>\n      <td>Yes</td>\n      <td>Yes</td>\n      <td>No</td>\n      <td>No</td>\n      <td>No</td>\n      <td>No</td>\n      <td>M2M</td>\n      <td>Yes</td>\n      <td>mcheck</td>\n      <td>53.85</td>\n      <td>108.15</td>\n      <td>Yes</td>\n    </tr>\n    <tr>\n      <th>9237-HQITU</th>\n      <td>Female</td>\n      <td>No</td>\n      <td>No</td>\n      <td>Yes</td>\n      <td>2</td>\n      <td>Yes</td>\n      <td>No</td>\n      <td>FiberOptic</td>\n      <td>No</td>\n      <td>No</td>\n      <td>No</td>\n      <td>No</td>\n      <td>No</td>\n      <td>No</td>\n      <td>M2M</td>\n      <td>Yes</td>\n      <td>echeck</td>\n      <td>70.70</td>\n      <td>151.65</td>\n      <td>Yes</td>\n    </tr>\n    <tr>\n      <th>9305-CDSKC</th>\n      <td>Female</td>\n      <td>No</td>\n      <td>No</td>\n      <td>Yes</td>\n      <td>8</td>\n      <td>Yes</td>\n      <td>Yes</td>\n      <td>FiberOptic</td>\n      <td>No</td>\n      <td>No</td>\n      <td>Yes</td>\n      <td>No</td>\n      <td>Yes</td>\n      <td>Yes</td>\n      <td>M2M</td>\n      <td>Yes</td>\n      <td>echeck</td>\n      <td>99.65</td>\n      <td>820.50</td>\n      <td>Yes</td>\n    </tr>\n    <tr>\n      <th>7892-POOKP</th>\n      <td>Female</td>\n      <td>No</td>\n      <td>Yes</td>\n      <td>Yes</td>\n      <td>28</td>\n      <td>Yes</td>\n      <td>Yes</td>\n      <td>FiberOptic</td>\n      <td>No</td>\n      <td>No</td>\n      <td>Yes</td>\n      <td>Yes</td>\n      <td>Yes</td>\n      <td>Yes</td>\n      <td>M2M</td>\n      <td>Yes</td>\n      <td>echeck</td>\n      <td>104.80</td>\n      <td>3046.05</td>\n      <td>Yes</td>\n    </tr>\n    <tr>\n      <th>0280-XJGEX</th>\n      <td>Male</td>\n      <td>No</td>\n      <td>No</td>\n      <td>Yes</td>\n      <td>49</td>\n      <td>Yes</td>\n      <td>Yes</td>\n      <td>FiberOptic</td>\n      <td>No</td>\n      <td>Yes</td>\n      <td>Yes</td>\n      <td>No</td>\n      <td>Yes</td>\n      <td>Yes</td>\n      <td>M2M</td>\n      <td>Yes</td>\n      <td>transfer</td>\n      <td>103.70</td>\n      <td>5036.30</td>\n      <td>Yes</td>\n    </tr>\n  </tbody>\n</table>\n</div>"
     },
     "metadata": {},
     "execution_count": 4
    }
   ],
   "source": [
    "# Validate that data is as expected\n",
    "input_data.head()"
   ]
  },
  {
   "cell_type": "code",
   "execution_count": 5,
   "metadata": {},
   "outputs": [
    {
     "output_type": "execute_result",
     "data": {
      "text/plain": [
       "(7032, 20)"
      ]
     },
     "metadata": {},
     "execution_count": 5
    }
   ],
   "source": [
    "# Size of data - TASK: Validate that it's (7032, 20)\n",
    "input_data.shape"
   ]
  },
  {
   "cell_type": "markdown",
   "metadata": {},
   "source": [
    "## Feature Engineering"
   ]
  },
  {
   "cell_type": "code",
   "execution_count": 6,
   "metadata": {},
   "outputs": [
    {
     "output_type": "stream",
     "name": "stdout",
     "text": [
      "Row count for each outcome\n0    5163\n1    1869\nName: ChurnLabel, dtype: int64\n"
     ]
    }
   ],
   "source": [
    "# Outcome variable\n",
    "# Instead of keeping the values, we will encode as 1s and 0s using the map function\n",
    "output_var_name = 'ChurnLabel'\n",
    "output_var = input_data[output_var_name]\n",
    "output_var = output_var.map({'Yes': 1, 'No': 0})\n",
    "# Note that the map function can be run only once. You will get an error if you try to run it agian as Yes/No are no longer valid values in this feature.\n",
    "\n",
    "# Count the number of rows for each outcome value\n",
    "print(\"Row count for each outcome\")\n",
    "print(output_var.value_counts())\n",
    "\n",
    "# Remove the outcome variable from the main dataframe\n",
    "input_data.drop(output_var_name, axis=1, inplace=True)"
   ]
  },
  {
   "cell_type": "code",
   "execution_count": 7,
   "metadata": {},
   "outputs": [
    {
     "output_type": "stream",
     "name": "stdout",
     "text": [
      "['TenureMonths', 'MonthlyCharges', 'TotalCharges']\n"
     ]
    }
   ],
   "source": [
    "# Next, we want to define 3 lists for each of the data types found in our data i.e. Numerical, Categorical (more than 2 values), Binary (2 values only)\n",
    "\n",
    "# Numerical features\n",
    "num_features = [key for key in dict(input_data.dtypes) if dict(input_data.dtypes)[key] in ['int64', 'float64']]\n",
    "print(num_features) # TASK: Confirm the columns based on Exercise 1"
   ]
  },
  {
   "cell_type": "code",
   "execution_count": 8,
   "metadata": {},
   "outputs": [],
   "source": [
    "# TASK: Define the 4 categorical features as a list of strings. These are the non-numerical features that do not have Yes/No values\n",
    "cat_features = ['Gender', 'InternetService', 'Contract', 'PaymentMethod']"
   ]
  },
  {
   "cell_type": "code",
   "execution_count": 9,
   "metadata": {},
   "outputs": [
    {
     "output_type": "stream",
     "name": "stdout",
     "text": [
      "List of binary features: ['SeniorCitizen', 'Partner', 'Dependents', 'PhoneService', 'MultipleLines', 'OnlineSecurity', 'OnlineBackup', 'DeviceProtection', 'TechSupport', 'StreamingTV', 'StreamingMovies', 'PaperlessBilling']\n"
     ]
    }
   ],
   "source": [
    "# TASK: Define the binary features. Complete the steps denoted in this cell.\n",
    "# 1. Get the list of non-numerical features (both categorical and binary). Hint: Add 'not' to the code from num_features\n",
    "bin_features = [key for key in dict(input_data.dtypes) if dict(input_data.dtypes)[key] not in ['int64', 'float64']]\n",
    "\n",
    "# 2. Remove the cat feature names from this list\n",
    "for col in cat_features:\n",
    "    bin_features.remove(col)\n",
    "print(f\"List of binary features: {bin_features}\") # TASK: Confirm the resulting list"
   ]
  },
  {
   "cell_type": "code",
   "execution_count": 10,
   "metadata": {},
   "outputs": [],
   "source": [
    "# Encoding the binary features. Similar to the outcome variable, we will need to convert the values of these features from Yes/No to 1/0.\n",
    "# Note that alternatively this could have been done when building the pipeline.\n",
    "# TASK: Complete the code \n",
    "for col in bin_features:\n",
    "    input_data[col] = input_data[col].map({'Yes': 1, 'No': 0})"
   ]
  },
  {
   "cell_type": "code",
   "execution_count": 11,
   "metadata": {},
   "outputs": [
    {
     "output_type": "execute_result",
     "data": {
      "text/plain": [
       "            Gender  SeniorCitizen  Partner  Dependents  TenureMonths  \\\n",
       "CustomerID                                                             \n",
       "3668-QPYBK    Male              0        0           0             2   \n",
       "9237-HQITU  Female              0        0           1             2   \n",
       "9305-CDSKC  Female              0        0           1             8   \n",
       "7892-POOKP  Female              0        1           1            28   \n",
       "0280-XJGEX    Male              0        0           1            49   \n",
       "\n",
       "            PhoneService  MultipleLines InternetService  OnlineSecurity  \\\n",
       "CustomerID                                                                \n",
       "3668-QPYBK             1              0             DSL               1   \n",
       "9237-HQITU             1              0      FiberOptic               0   \n",
       "9305-CDSKC             1              1      FiberOptic               0   \n",
       "7892-POOKP             1              1      FiberOptic               0   \n",
       "0280-XJGEX             1              1      FiberOptic               0   \n",
       "\n",
       "            OnlineBackup  DeviceProtection  TechSupport  StreamingTV  \\\n",
       "CustomerID                                                             \n",
       "3668-QPYBK             1                 0            0            0   \n",
       "9237-HQITU             0                 0            0            0   \n",
       "9305-CDSKC             0                 1            0            1   \n",
       "7892-POOKP             0                 1            1            1   \n",
       "0280-XJGEX             1                 1            0            1   \n",
       "\n",
       "            StreamingMovies Contract  PaperlessBilling PaymentMethod  \\\n",
       "CustomerID                                                             \n",
       "3668-QPYBK                0      M2M                 1        mcheck   \n",
       "9237-HQITU                0      M2M                 1        echeck   \n",
       "9305-CDSKC                1      M2M                 1        echeck   \n",
       "7892-POOKP                1      M2M                 1        echeck   \n",
       "0280-XJGEX                1      M2M                 1      transfer   \n",
       "\n",
       "            MonthlyCharges  TotalCharges  \n",
       "CustomerID                                \n",
       "3668-QPYBK           53.85        108.15  \n",
       "9237-HQITU           70.70        151.65  \n",
       "9305-CDSKC           99.65        820.50  \n",
       "7892-POOKP          104.80       3046.05  \n",
       "0280-XJGEX          103.70       5036.30  "
      ],
      "text/html": "<div>\n<style scoped>\n    .dataframe tbody tr th:only-of-type {\n        vertical-align: middle;\n    }\n\n    .dataframe tbody tr th {\n        vertical-align: top;\n    }\n\n    .dataframe thead th {\n        text-align: right;\n    }\n</style>\n<table border=\"1\" class=\"dataframe\">\n  <thead>\n    <tr style=\"text-align: right;\">\n      <th></th>\n      <th>Gender</th>\n      <th>SeniorCitizen</th>\n      <th>Partner</th>\n      <th>Dependents</th>\n      <th>TenureMonths</th>\n      <th>PhoneService</th>\n      <th>MultipleLines</th>\n      <th>InternetService</th>\n      <th>OnlineSecurity</th>\n      <th>OnlineBackup</th>\n      <th>DeviceProtection</th>\n      <th>TechSupport</th>\n      <th>StreamingTV</th>\n      <th>StreamingMovies</th>\n      <th>Contract</th>\n      <th>PaperlessBilling</th>\n      <th>PaymentMethod</th>\n      <th>MonthlyCharges</th>\n      <th>TotalCharges</th>\n    </tr>\n    <tr>\n      <th>CustomerID</th>\n      <th></th>\n      <th></th>\n      <th></th>\n      <th></th>\n      <th></th>\n      <th></th>\n      <th></th>\n      <th></th>\n      <th></th>\n      <th></th>\n      <th></th>\n      <th></th>\n      <th></th>\n      <th></th>\n      <th></th>\n      <th></th>\n      <th></th>\n      <th></th>\n      <th></th>\n    </tr>\n  </thead>\n  <tbody>\n    <tr>\n      <th>3668-QPYBK</th>\n      <td>Male</td>\n      <td>0</td>\n      <td>0</td>\n      <td>0</td>\n      <td>2</td>\n      <td>1</td>\n      <td>0</td>\n      <td>DSL</td>\n      <td>1</td>\n      <td>1</td>\n      <td>0</td>\n      <td>0</td>\n      <td>0</td>\n      <td>0</td>\n      <td>M2M</td>\n      <td>1</td>\n      <td>mcheck</td>\n      <td>53.85</td>\n      <td>108.15</td>\n    </tr>\n    <tr>\n      <th>9237-HQITU</th>\n      <td>Female</td>\n      <td>0</td>\n      <td>0</td>\n      <td>1</td>\n      <td>2</td>\n      <td>1</td>\n      <td>0</td>\n      <td>FiberOptic</td>\n      <td>0</td>\n      <td>0</td>\n      <td>0</td>\n      <td>0</td>\n      <td>0</td>\n      <td>0</td>\n      <td>M2M</td>\n      <td>1</td>\n      <td>echeck</td>\n      <td>70.70</td>\n      <td>151.65</td>\n    </tr>\n    <tr>\n      <th>9305-CDSKC</th>\n      <td>Female</td>\n      <td>0</td>\n      <td>0</td>\n      <td>1</td>\n      <td>8</td>\n      <td>1</td>\n      <td>1</td>\n      <td>FiberOptic</td>\n      <td>0</td>\n      <td>0</td>\n      <td>1</td>\n      <td>0</td>\n      <td>1</td>\n      <td>1</td>\n      <td>M2M</td>\n      <td>1</td>\n      <td>echeck</td>\n      <td>99.65</td>\n      <td>820.50</td>\n    </tr>\n    <tr>\n      <th>7892-POOKP</th>\n      <td>Female</td>\n      <td>0</td>\n      <td>1</td>\n      <td>1</td>\n      <td>28</td>\n      <td>1</td>\n      <td>1</td>\n      <td>FiberOptic</td>\n      <td>0</td>\n      <td>0</td>\n      <td>1</td>\n      <td>1</td>\n      <td>1</td>\n      <td>1</td>\n      <td>M2M</td>\n      <td>1</td>\n      <td>echeck</td>\n      <td>104.80</td>\n      <td>3046.05</td>\n    </tr>\n    <tr>\n      <th>0280-XJGEX</th>\n      <td>Male</td>\n      <td>0</td>\n      <td>0</td>\n      <td>1</td>\n      <td>49</td>\n      <td>1</td>\n      <td>1</td>\n      <td>FiberOptic</td>\n      <td>0</td>\n      <td>1</td>\n      <td>1</td>\n      <td>0</td>\n      <td>1</td>\n      <td>1</td>\n      <td>M2M</td>\n      <td>1</td>\n      <td>transfer</td>\n      <td>103.70</td>\n      <td>5036.30</td>\n    </tr>\n  </tbody>\n</table>\n</div>"
     },
     "metadata": {},
     "execution_count": 11
    }
   ],
   "source": [
    "# Display values after encoding\n",
    "input_data.head()"
   ]
  },
  {
   "cell_type": "markdown",
   "metadata": {},
   "source": [
    "## Model Building"
   ]
  },
  {
   "cell_type": "code",
   "execution_count": 12,
   "metadata": {},
   "outputs": [],
   "source": [
    "# Define preprocessing pipeline. Reminder that the binary features have already been encoded and thus only passed through\n",
    "# TASK: Match the list of features to the correct encoding operation. \n",
    "# Remember to add the library imports for ColumnTransformer, StandardScaler, OneHotEncoder to the imports above\n",
    "preprocess = ColumnTransformer(\n",
    "    transformers=[\n",
    "        ('standardscaler', StandardScaler(), num_features),\n",
    "        ('onehotencoder', OneHotEncoder(), cat_features)\n",
    "    ],\n",
    "    remainder='passthrough'\n",
    ")"
   ]
  },
  {
   "cell_type": "code",
   "execution_count": 13,
   "metadata": {},
   "outputs": [],
   "source": [
    "preprocessed_data = preprocess.fit_transform(input_data)"
   ]
  },
  {
   "cell_type": "code",
   "execution_count": 14,
   "metadata": {},
   "outputs": [],
   "source": [
    "# Train/Test Split\n",
    "# TASK: Split the data into 70:30 train/test. Use the random_state=42\n",
    "x_train, x_test, y_train, y_test = train_test_split(preprocessed_data, output_var, test_size=0.3, random_state=42)"
   ]
  },
  {
   "cell_type": "code",
   "execution_count": 15,
   "metadata": {},
   "outputs": [
    {
     "output_type": "execute_result",
     "data": {
      "text/plain": [
       "(2110, 27)"
      ]
     },
     "metadata": {},
     "execution_count": 15
    }
   ],
   "source": [
    "# Check the dimensions of the data. TASK: Confirm as (2110, 19)\n",
    "x_test.shape"
   ]
  },
  {
   "cell_type": "code",
   "execution_count": 16,
   "metadata": {},
   "outputs": [
    {
     "output_type": "stream",
     "name": "stdout",
     "text": [
      "Before OverSampling, counts of label '1': 1281\nBefore OverSampling, counts of label '0': 3641 \n\n"
     ]
    }
   ],
   "source": [
    "# Data Balancing\n",
    "from imblearn.over_sampling import SMOTE, RandomOverSampler\n",
    "\n",
    "print(\"Before OverSampling, counts of label '1': {}\".format(sum(y_train==1)))\n",
    "print(\"Before OverSampling, counts of label '0': {} \\n\".format(sum(y_train==0)))"
   ]
  },
  {
   "cell_type": "code",
   "execution_count": 17,
   "metadata": {},
   "outputs": [],
   "source": [
    "# over_sample = RandomOverSampler(random_state=0)\n",
    "over_sample = SMOTE(random_state=2)\n",
    "x_train_res, y_train_res = over_sample.fit_resample(x_train, y_train.ravel())"
   ]
  },
  {
   "cell_type": "code",
   "execution_count": 18,
   "metadata": {},
   "outputs": [
    {
     "output_type": "stream",
     "name": "stdout",
     "text": [
      "After OverSampling, counts of label '1': 3641\nAfter OverSampling, counts of label '0': 3641 \n\n"
     ]
    }
   ],
   "source": [
    "print(\"After OverSampling, counts of label '1': {}\".format(sum(y_train_res==1)))\n",
    "print(\"After OverSampling, counts of label '0': {} \\n\".format(sum(y_train_res==0)))"
   ]
  },
  {
   "cell_type": "code",
   "execution_count": 19,
   "metadata": {},
   "outputs": [
    {
     "output_type": "execute_result",
     "data": {
      "text/plain": [
       "KNeighborsClassifier()"
      ]
     },
     "metadata": {},
     "execution_count": 19
    }
   ],
   "source": [
    "# Train the pipeline. You can add a semi-colon (';') at the end of the line to supresses the output printing\n",
    "model = KNeighborsClassifier(n_neighbors=5)\n",
    "model.fit(x_train_res, y_train_res)"
   ]
  },
  {
   "cell_type": "markdown",
   "metadata": {},
   "source": [
    "### Evaluation\n",
    "\n",
    "For regression problems, we are familiar with common metrics such as Root Means Square Error (RMSE) and the Coefficient of Determination (R<sup>2</sup> value).\n",
    "\n",
    "With classification problems, we need a different set of metrics to evaluate the model. Here, we use metrics such as:\n",
    "\n",
    "- Confusion Matrix\n",
    "- Precision\n",
    "- Recall\n",
    "- F1 score\n",
    "- ROC and AUC\n",
    "\n",
    "Read the following blog posts to get familiar with these terms:\n",
    "\n",
    "- https://hackernoon.com/idiots-guide-to-precision-recall-and-confusion-matrix-b32d36463556\n",
    "- https://towardsdatascience.com/accuracy-precision-recall-or-f1-331fb37c5cb9\n",
    "\n",
    "Once you are done, proceed to the next cells.\n"
   ]
  },
  {
   "cell_type": "code",
   "execution_count": 20,
   "metadata": {},
   "outputs": [],
   "source": [
    "# Apply the model on the test data\n",
    "pred_test = model.predict(x_test)"
   ]
  },
  {
   "cell_type": "code",
   "execution_count": 21,
   "metadata": {},
   "outputs": [],
   "source": [
    "# TASK: Import the following metrics from scikit-learn in the library imports section above\n",
    "# confusion_matrix, accuracy_score, precision, recall, f1_score, classification_report, roc_curve, auc\n",
    "# Note that all these functions have the same parameter profile i.e. the first parameter contains the actual values while the second parameter contains the predicted values from the model."
   ]
  },
  {
   "cell_type": "code",
   "execution_count": 22,
   "metadata": {},
   "outputs": [
    {
     "output_type": "stream",
     "name": "stdout",
     "text": [
      "[[1056  466]\n [ 138  450]]\n"
     ]
    }
   ],
   "source": [
    "# TASK: Calculate the confusion matrix\n",
    "cm = confusion_matrix(y_test, pred_test)\n",
    "print(cm)"
   ]
  },
  {
   "cell_type": "code",
   "execution_count": 23,
   "metadata": {},
   "outputs": [
    {
     "output_type": "display_data",
     "data": {
      "text/plain": "<Figure size 432x288 with 2 Axes>",
      "image/svg+xml": "<?xml version=\"1.0\" encoding=\"utf-8\" standalone=\"no\"?>\r\n<!DOCTYPE svg PUBLIC \"-//W3C//DTD SVG 1.1//EN\"\r\n  \"http://www.w3.org/Graphics/SVG/1.1/DTD/svg11.dtd\">\r\n<svg height=\"277.314375pt\" version=\"1.1\" viewBox=\"0 0 372.65825 277.314375\" width=\"372.65825pt\" xmlns=\"http://www.w3.org/2000/svg\" xmlns:xlink=\"http://www.w3.org/1999/xlink\">\r\n <metadata>\r\n  <rdf:RDF xmlns:cc=\"http://creativecommons.org/ns#\" xmlns:dc=\"http://purl.org/dc/elements/1.1/\" xmlns:rdf=\"http://www.w3.org/1999/02/22-rdf-syntax-ns#\">\r\n   <cc:Work>\r\n    <dc:type rdf:resource=\"http://purl.org/dc/dcmitype/StillImage\"/>\r\n    <dc:date>2021-05-30T17:41:19.939617</dc:date>\r\n    <dc:format>image/svg+xml</dc:format>\r\n    <dc:creator>\r\n     <cc:Agent>\r\n      <dc:title>Matplotlib v3.4.1, https://matplotlib.org/</dc:title>\r\n     </cc:Agent>\r\n    </dc:creator>\r\n   </cc:Work>\r\n  </rdf:RDF>\r\n </metadata>\r\n <defs>\r\n  <style type=\"text/css\">*{stroke-linecap:butt;stroke-linejoin:round;}</style>\r\n </defs>\r\n <g id=\"figure_1\">\r\n  <g id=\"patch_1\">\r\n   <path d=\"M 0 277.314375 \r\nL 372.65825 277.314375 \r\nL 372.65825 0 \r\nL 0 0 \r\nz\r\n\" style=\"fill:none;\"/>\r\n  </g>\r\n  <g id=\"axes_1\">\r\n   <g id=\"patch_2\">\r\n    <path d=\"M 37.55625 239.758125 \r\nL 305.39625 239.758125 \r\nL 305.39625 22.318125 \r\nL 37.55625 22.318125 \r\nz\r\n\" style=\"fill:#ffffff;\"/>\r\n   </g>\r\n   <g id=\"QuadMesh_1\">\r\n    <path clip-path=\"url(#p056de9e6f9)\" d=\"M 37.55625 22.318125 \r\nL 171.47625 22.318125 \r\nL 171.47625 131.038125 \r\nL 37.55625 131.038125 \r\nL 37.55625 22.318125 \r\n\" style=\"fill:#faebdd;\"/>\r\n    <path clip-path=\"url(#p056de9e6f9)\" d=\"M 171.47625 22.318125 \r\nL 305.39625 22.318125 \r\nL 305.39625 131.038125 \r\nL 171.47625 131.038125 \r\nL 171.47625 22.318125 \r\n\" style=\"fill:#8e1d5b;\"/>\r\n    <path clip-path=\"url(#p056de9e6f9)\" d=\"M 37.55625 131.038125 \r\nL 171.47625 131.038125 \r\nL 171.47625 239.758125 \r\nL 37.55625 239.758125 \r\nL 37.55625 131.038125 \r\n\" style=\"fill:#03051a;\"/>\r\n    <path clip-path=\"url(#p056de9e6f9)\" d=\"M 171.47625 131.038125 \r\nL 305.39625 131.038125 \r\nL 305.39625 239.758125 \r\nL 171.47625 239.758125 \r\nL 171.47625 131.038125 \r\n\" style=\"fill:#871e5b;\"/>\r\n   </g>\r\n   <g id=\"matplotlib.axis_1\">\r\n    <g id=\"xtick_1\">\r\n     <g id=\"line2d_1\">\r\n      <defs>\r\n       <path d=\"M 0 0 \r\nL 0 3.5 \r\n\" id=\"m8723b38b6f\" style=\"stroke:#000000;stroke-width:0.8;\"/>\r\n      </defs>\r\n      <g>\r\n       <use style=\"stroke:#000000;stroke-width:0.8;\" x=\"104.51625\" xlink:href=\"#m8723b38b6f\" y=\"239.758125\"/>\r\n      </g>\r\n     </g>\r\n     <g id=\"text_1\">\r\n      <!-- No -->\r\n      <g transform=\"translate(97.71625 254.356562)scale(0.1 -0.1)\">\r\n       <defs>\r\n        <path d=\"M 628 4666 \r\nL 1478 4666 \r\nL 3547 763 \r\nL 3547 4666 \r\nL 4159 4666 \r\nL 4159 0 \r\nL 3309 0 \r\nL 1241 3903 \r\nL 1241 0 \r\nL 628 0 \r\nL 628 4666 \r\nz\r\n\" id=\"DejaVuSans-4e\" transform=\"scale(0.015625)\"/>\r\n        <path d=\"M 1959 3097 \r\nQ 1497 3097 1228 2736 \r\nQ 959 2375 959 1747 \r\nQ 959 1119 1226 758 \r\nQ 1494 397 1959 397 \r\nQ 2419 397 2687 759 \r\nQ 2956 1122 2956 1747 \r\nQ 2956 2369 2687 2733 \r\nQ 2419 3097 1959 3097 \r\nz\r\nM 1959 3584 \r\nQ 2709 3584 3137 3096 \r\nQ 3566 2609 3566 1747 \r\nQ 3566 888 3137 398 \r\nQ 2709 -91 1959 -91 \r\nQ 1206 -91 779 398 \r\nQ 353 888 353 1747 \r\nQ 353 2609 779 3096 \r\nQ 1206 3584 1959 3584 \r\nz\r\n\" id=\"DejaVuSans-6f\" transform=\"scale(0.015625)\"/>\r\n       </defs>\r\n       <use xlink:href=\"#DejaVuSans-4e\"/>\r\n       <use x=\"74.804688\" xlink:href=\"#DejaVuSans-6f\"/>\r\n      </g>\r\n     </g>\r\n    </g>\r\n    <g id=\"xtick_2\">\r\n     <g id=\"line2d_2\">\r\n      <g>\r\n       <use style=\"stroke:#000000;stroke-width:0.8;\" x=\"238.43625\" xlink:href=\"#m8723b38b6f\" y=\"239.758125\"/>\r\n      </g>\r\n     </g>\r\n     <g id=\"text_2\">\r\n      <!-- Yes -->\r\n      <g transform=\"translate(230.363594 254.356562)scale(0.1 -0.1)\">\r\n       <defs>\r\n        <path d=\"M -13 4666 \r\nL 666 4666 \r\nL 1959 2747 \r\nL 3244 4666 \r\nL 3922 4666 \r\nL 2272 2222 \r\nL 2272 0 \r\nL 1638 0 \r\nL 1638 2222 \r\nL -13 4666 \r\nz\r\n\" id=\"DejaVuSans-59\" transform=\"scale(0.015625)\"/>\r\n        <path d=\"M 3597 1894 \r\nL 3597 1613 \r\nL 953 1613 \r\nQ 991 1019 1311 708 \r\nQ 1631 397 2203 397 \r\nQ 2534 397 2845 478 \r\nQ 3156 559 3463 722 \r\nL 3463 178 \r\nQ 3153 47 2828 -22 \r\nQ 2503 -91 2169 -91 \r\nQ 1331 -91 842 396 \r\nQ 353 884 353 1716 \r\nQ 353 2575 817 3079 \r\nQ 1281 3584 2069 3584 \r\nQ 2775 3584 3186 3129 \r\nQ 3597 2675 3597 1894 \r\nz\r\nM 3022 2063 \r\nQ 3016 2534 2758 2815 \r\nQ 2500 3097 2075 3097 \r\nQ 1594 3097 1305 2825 \r\nQ 1016 2553 972 2059 \r\nL 3022 2063 \r\nz\r\n\" id=\"DejaVuSans-65\" transform=\"scale(0.015625)\"/>\r\n        <path d=\"M 2834 3397 \r\nL 2834 2853 \r\nQ 2591 2978 2328 3040 \r\nQ 2066 3103 1784 3103 \r\nQ 1356 3103 1142 2972 \r\nQ 928 2841 928 2578 \r\nQ 928 2378 1081 2264 \r\nQ 1234 2150 1697 2047 \r\nL 1894 2003 \r\nQ 2506 1872 2764 1633 \r\nQ 3022 1394 3022 966 \r\nQ 3022 478 2636 193 \r\nQ 2250 -91 1575 -91 \r\nQ 1294 -91 989 -36 \r\nQ 684 19 347 128 \r\nL 347 722 \r\nQ 666 556 975 473 \r\nQ 1284 391 1588 391 \r\nQ 1994 391 2212 530 \r\nQ 2431 669 2431 922 \r\nQ 2431 1156 2273 1281 \r\nQ 2116 1406 1581 1522 \r\nL 1381 1569 \r\nQ 847 1681 609 1914 \r\nQ 372 2147 372 2553 \r\nQ 372 3047 722 3315 \r\nQ 1072 3584 1716 3584 \r\nQ 2034 3584 2315 3537 \r\nQ 2597 3491 2834 3397 \r\nz\r\n\" id=\"DejaVuSans-73\" transform=\"scale(0.015625)\"/>\r\n       </defs>\r\n       <use xlink:href=\"#DejaVuSans-59\"/>\r\n       <use x=\"47.833984\" xlink:href=\"#DejaVuSans-65\"/>\r\n       <use x=\"109.357422\" xlink:href=\"#DejaVuSans-73\"/>\r\n      </g>\r\n     </g>\r\n    </g>\r\n    <g id=\"text_3\">\r\n     <!-- Predicted labels -->\r\n     <g transform=\"translate(131.719219 268.034687)scale(0.1 -0.1)\">\r\n      <defs>\r\n       <path d=\"M 1259 4147 \r\nL 1259 2394 \r\nL 2053 2394 \r\nQ 2494 2394 2734 2622 \r\nQ 2975 2850 2975 3272 \r\nQ 2975 3691 2734 3919 \r\nQ 2494 4147 2053 4147 \r\nL 1259 4147 \r\nz\r\nM 628 4666 \r\nL 2053 4666 \r\nQ 2838 4666 3239 4311 \r\nQ 3641 3956 3641 3272 \r\nQ 3641 2581 3239 2228 \r\nQ 2838 1875 2053 1875 \r\nL 1259 1875 \r\nL 1259 0 \r\nL 628 0 \r\nL 628 4666 \r\nz\r\n\" id=\"DejaVuSans-50\" transform=\"scale(0.015625)\"/>\r\n       <path d=\"M 2631 2963 \r\nQ 2534 3019 2420 3045 \r\nQ 2306 3072 2169 3072 \r\nQ 1681 3072 1420 2755 \r\nQ 1159 2438 1159 1844 \r\nL 1159 0 \r\nL 581 0 \r\nL 581 3500 \r\nL 1159 3500 \r\nL 1159 2956 \r\nQ 1341 3275 1631 3429 \r\nQ 1922 3584 2338 3584 \r\nQ 2397 3584 2469 3576 \r\nQ 2541 3569 2628 3553 \r\nL 2631 2963 \r\nz\r\n\" id=\"DejaVuSans-72\" transform=\"scale(0.015625)\"/>\r\n       <path d=\"M 2906 2969 \r\nL 2906 4863 \r\nL 3481 4863 \r\nL 3481 0 \r\nL 2906 0 \r\nL 2906 525 \r\nQ 2725 213 2448 61 \r\nQ 2172 -91 1784 -91 \r\nQ 1150 -91 751 415 \r\nQ 353 922 353 1747 \r\nQ 353 2572 751 3078 \r\nQ 1150 3584 1784 3584 \r\nQ 2172 3584 2448 3432 \r\nQ 2725 3281 2906 2969 \r\nz\r\nM 947 1747 \r\nQ 947 1113 1208 752 \r\nQ 1469 391 1925 391 \r\nQ 2381 391 2643 752 \r\nQ 2906 1113 2906 1747 \r\nQ 2906 2381 2643 2742 \r\nQ 2381 3103 1925 3103 \r\nQ 1469 3103 1208 2742 \r\nQ 947 2381 947 1747 \r\nz\r\n\" id=\"DejaVuSans-64\" transform=\"scale(0.015625)\"/>\r\n       <path d=\"M 603 3500 \r\nL 1178 3500 \r\nL 1178 0 \r\nL 603 0 \r\nL 603 3500 \r\nz\r\nM 603 4863 \r\nL 1178 4863 \r\nL 1178 4134 \r\nL 603 4134 \r\nL 603 4863 \r\nz\r\n\" id=\"DejaVuSans-69\" transform=\"scale(0.015625)\"/>\r\n       <path d=\"M 3122 3366 \r\nL 3122 2828 \r\nQ 2878 2963 2633 3030 \r\nQ 2388 3097 2138 3097 \r\nQ 1578 3097 1268 2742 \r\nQ 959 2388 959 1747 \r\nQ 959 1106 1268 751 \r\nQ 1578 397 2138 397 \r\nQ 2388 397 2633 464 \r\nQ 2878 531 3122 666 \r\nL 3122 134 \r\nQ 2881 22 2623 -34 \r\nQ 2366 -91 2075 -91 \r\nQ 1284 -91 818 406 \r\nQ 353 903 353 1747 \r\nQ 353 2603 823 3093 \r\nQ 1294 3584 2113 3584 \r\nQ 2378 3584 2631 3529 \r\nQ 2884 3475 3122 3366 \r\nz\r\n\" id=\"DejaVuSans-63\" transform=\"scale(0.015625)\"/>\r\n       <path d=\"M 1172 4494 \r\nL 1172 3500 \r\nL 2356 3500 \r\nL 2356 3053 \r\nL 1172 3053 \r\nL 1172 1153 \r\nQ 1172 725 1289 603 \r\nQ 1406 481 1766 481 \r\nL 2356 481 \r\nL 2356 0 \r\nL 1766 0 \r\nQ 1100 0 847 248 \r\nQ 594 497 594 1153 \r\nL 594 3053 \r\nL 172 3053 \r\nL 172 3500 \r\nL 594 3500 \r\nL 594 4494 \r\nL 1172 4494 \r\nz\r\n\" id=\"DejaVuSans-74\" transform=\"scale(0.015625)\"/>\r\n       <path id=\"DejaVuSans-20\" transform=\"scale(0.015625)\"/>\r\n       <path d=\"M 603 4863 \r\nL 1178 4863 \r\nL 1178 0 \r\nL 603 0 \r\nL 603 4863 \r\nz\r\n\" id=\"DejaVuSans-6c\" transform=\"scale(0.015625)\"/>\r\n       <path d=\"M 2194 1759 \r\nQ 1497 1759 1228 1600 \r\nQ 959 1441 959 1056 \r\nQ 959 750 1161 570 \r\nQ 1363 391 1709 391 \r\nQ 2188 391 2477 730 \r\nQ 2766 1069 2766 1631 \r\nL 2766 1759 \r\nL 2194 1759 \r\nz\r\nM 3341 1997 \r\nL 3341 0 \r\nL 2766 0 \r\nL 2766 531 \r\nQ 2569 213 2275 61 \r\nQ 1981 -91 1556 -91 \r\nQ 1019 -91 701 211 \r\nQ 384 513 384 1019 \r\nQ 384 1609 779 1909 \r\nQ 1175 2209 1959 2209 \r\nL 2766 2209 \r\nL 2766 2266 \r\nQ 2766 2663 2505 2880 \r\nQ 2244 3097 1772 3097 \r\nQ 1472 3097 1187 3025 \r\nQ 903 2953 641 2809 \r\nL 641 3341 \r\nQ 956 3463 1253 3523 \r\nQ 1550 3584 1831 3584 \r\nQ 2591 3584 2966 3190 \r\nQ 3341 2797 3341 1997 \r\nz\r\n\" id=\"DejaVuSans-61\" transform=\"scale(0.015625)\"/>\r\n       <path d=\"M 3116 1747 \r\nQ 3116 2381 2855 2742 \r\nQ 2594 3103 2138 3103 \r\nQ 1681 3103 1420 2742 \r\nQ 1159 2381 1159 1747 \r\nQ 1159 1113 1420 752 \r\nQ 1681 391 2138 391 \r\nQ 2594 391 2855 752 \r\nQ 3116 1113 3116 1747 \r\nz\r\nM 1159 2969 \r\nQ 1341 3281 1617 3432 \r\nQ 1894 3584 2278 3584 \r\nQ 2916 3584 3314 3078 \r\nQ 3713 2572 3713 1747 \r\nQ 3713 922 3314 415 \r\nQ 2916 -91 2278 -91 \r\nQ 1894 -91 1617 61 \r\nQ 1341 213 1159 525 \r\nL 1159 0 \r\nL 581 0 \r\nL 581 4863 \r\nL 1159 4863 \r\nL 1159 2969 \r\nz\r\n\" id=\"DejaVuSans-62\" transform=\"scale(0.015625)\"/>\r\n      </defs>\r\n      <use xlink:href=\"#DejaVuSans-50\"/>\r\n      <use x=\"58.552734\" xlink:href=\"#DejaVuSans-72\"/>\r\n      <use x=\"97.416016\" xlink:href=\"#DejaVuSans-65\"/>\r\n      <use x=\"158.939453\" xlink:href=\"#DejaVuSans-64\"/>\r\n      <use x=\"222.416016\" xlink:href=\"#DejaVuSans-69\"/>\r\n      <use x=\"250.199219\" xlink:href=\"#DejaVuSans-63\"/>\r\n      <use x=\"305.179688\" xlink:href=\"#DejaVuSans-74\"/>\r\n      <use x=\"344.388672\" xlink:href=\"#DejaVuSans-65\"/>\r\n      <use x=\"405.912109\" xlink:href=\"#DejaVuSans-64\"/>\r\n      <use x=\"469.388672\" xlink:href=\"#DejaVuSans-20\"/>\r\n      <use x=\"501.175781\" xlink:href=\"#DejaVuSans-6c\"/>\r\n      <use x=\"528.958984\" xlink:href=\"#DejaVuSans-61\"/>\r\n      <use x=\"590.238281\" xlink:href=\"#DejaVuSans-62\"/>\r\n      <use x=\"653.714844\" xlink:href=\"#DejaVuSans-65\"/>\r\n      <use x=\"715.238281\" xlink:href=\"#DejaVuSans-6c\"/>\r\n      <use x=\"743.021484\" xlink:href=\"#DejaVuSans-73\"/>\r\n     </g>\r\n    </g>\r\n   </g>\r\n   <g id=\"matplotlib.axis_2\">\r\n    <g id=\"ytick_1\">\r\n     <g id=\"line2d_3\">\r\n      <defs>\r\n       <path d=\"M 0 0 \r\nL -3.5 0 \r\n\" id=\"ma399f57cdf\" style=\"stroke:#000000;stroke-width:0.8;\"/>\r\n      </defs>\r\n      <g>\r\n       <use style=\"stroke:#000000;stroke-width:0.8;\" x=\"37.55625\" xlink:href=\"#ma399f57cdf\" y=\"76.678125\"/>\r\n      </g>\r\n     </g>\r\n     <g id=\"text_4\">\r\n      <!-- No -->\r\n      <g transform=\"translate(28.476563 86.478906)rotate(-90)scale(0.1 -0.1)\">\r\n       <use xlink:href=\"#DejaVuSans-4e\"/>\r\n       <use x=\"74.804688\" xlink:href=\"#DejaVuSans-6f\"/>\r\n      </g>\r\n     </g>\r\n    </g>\r\n    <g id=\"ytick_2\">\r\n     <g id=\"line2d_4\">\r\n      <g>\r\n       <use style=\"stroke:#000000;stroke-width:0.8;\" x=\"37.55625\" xlink:href=\"#ma399f57cdf\" y=\"185.398125\"/>\r\n      </g>\r\n     </g>\r\n     <g id=\"text_5\">\r\n      <!-- Yes -->\r\n      <g transform=\"translate(28.476563 197.744219)rotate(-90)scale(0.1 -0.1)\">\r\n       <use xlink:href=\"#DejaVuSans-59\"/>\r\n       <use x=\"47.833984\" xlink:href=\"#DejaVuSans-65\"/>\r\n       <use x=\"109.357422\" xlink:href=\"#DejaVuSans-73\"/>\r\n      </g>\r\n     </g>\r\n    </g>\r\n    <g id=\"text_6\">\r\n     <!-- True labels -->\r\n     <g transform=\"translate(14.798438 157.942031)rotate(-90)scale(0.1 -0.1)\">\r\n      <defs>\r\n       <path d=\"M -19 4666 \r\nL 3928 4666 \r\nL 3928 4134 \r\nL 2272 4134 \r\nL 2272 0 \r\nL 1638 0 \r\nL 1638 4134 \r\nL -19 4134 \r\nL -19 4666 \r\nz\r\n\" id=\"DejaVuSans-54\" transform=\"scale(0.015625)\"/>\r\n       <path d=\"M 544 1381 \r\nL 544 3500 \r\nL 1119 3500 \r\nL 1119 1403 \r\nQ 1119 906 1312 657 \r\nQ 1506 409 1894 409 \r\nQ 2359 409 2629 706 \r\nQ 2900 1003 2900 1516 \r\nL 2900 3500 \r\nL 3475 3500 \r\nL 3475 0 \r\nL 2900 0 \r\nL 2900 538 \r\nQ 2691 219 2414 64 \r\nQ 2138 -91 1772 -91 \r\nQ 1169 -91 856 284 \r\nQ 544 659 544 1381 \r\nz\r\nM 1991 3584 \r\nL 1991 3584 \r\nz\r\n\" id=\"DejaVuSans-75\" transform=\"scale(0.015625)\"/>\r\n      </defs>\r\n      <use xlink:href=\"#DejaVuSans-54\"/>\r\n      <use x=\"46.333984\" xlink:href=\"#DejaVuSans-72\"/>\r\n      <use x=\"87.447266\" xlink:href=\"#DejaVuSans-75\"/>\r\n      <use x=\"150.826172\" xlink:href=\"#DejaVuSans-65\"/>\r\n      <use x=\"212.349609\" xlink:href=\"#DejaVuSans-20\"/>\r\n      <use x=\"244.136719\" xlink:href=\"#DejaVuSans-6c\"/>\r\n      <use x=\"271.919922\" xlink:href=\"#DejaVuSans-61\"/>\r\n      <use x=\"333.199219\" xlink:href=\"#DejaVuSans-62\"/>\r\n      <use x=\"396.675781\" xlink:href=\"#DejaVuSans-65\"/>\r\n      <use x=\"458.199219\" xlink:href=\"#DejaVuSans-6c\"/>\r\n      <use x=\"485.982422\" xlink:href=\"#DejaVuSans-73\"/>\r\n     </g>\r\n    </g>\r\n   </g>\r\n   <g id=\"text_7\">\r\n    <!-- 1056 -->\r\n    <g style=\"fill:#262626;\" transform=\"translate(91.79125 79.4375)scale(0.1 -0.1)\">\r\n     <defs>\r\n      <path d=\"M 794 531 \r\nL 1825 531 \r\nL 1825 4091 \r\nL 703 3866 \r\nL 703 4441 \r\nL 1819 4666 \r\nL 2450 4666 \r\nL 2450 531 \r\nL 3481 531 \r\nL 3481 0 \r\nL 794 0 \r\nL 794 531 \r\nz\r\n\" id=\"DejaVuSans-31\" transform=\"scale(0.015625)\"/>\r\n      <path d=\"M 2034 4250 \r\nQ 1547 4250 1301 3770 \r\nQ 1056 3291 1056 2328 \r\nQ 1056 1369 1301 889 \r\nQ 1547 409 2034 409 \r\nQ 2525 409 2770 889 \r\nQ 3016 1369 3016 2328 \r\nQ 3016 3291 2770 3770 \r\nQ 2525 4250 2034 4250 \r\nz\r\nM 2034 4750 \r\nQ 2819 4750 3233 4129 \r\nQ 3647 3509 3647 2328 \r\nQ 3647 1150 3233 529 \r\nQ 2819 -91 2034 -91 \r\nQ 1250 -91 836 529 \r\nQ 422 1150 422 2328 \r\nQ 422 3509 836 4129 \r\nQ 1250 4750 2034 4750 \r\nz\r\n\" id=\"DejaVuSans-30\" transform=\"scale(0.015625)\"/>\r\n      <path d=\"M 691 4666 \r\nL 3169 4666 \r\nL 3169 4134 \r\nL 1269 4134 \r\nL 1269 2991 \r\nQ 1406 3038 1543 3061 \r\nQ 1681 3084 1819 3084 \r\nQ 2600 3084 3056 2656 \r\nQ 3513 2228 3513 1497 \r\nQ 3513 744 3044 326 \r\nQ 2575 -91 1722 -91 \r\nQ 1428 -91 1123 -41 \r\nQ 819 9 494 109 \r\nL 494 744 \r\nQ 775 591 1075 516 \r\nQ 1375 441 1709 441 \r\nQ 2250 441 2565 725 \r\nQ 2881 1009 2881 1497 \r\nQ 2881 1984 2565 2268 \r\nQ 2250 2553 1709 2553 \r\nQ 1456 2553 1204 2497 \r\nQ 953 2441 691 2322 \r\nL 691 4666 \r\nz\r\n\" id=\"DejaVuSans-35\" transform=\"scale(0.015625)\"/>\r\n      <path d=\"M 2113 2584 \r\nQ 1688 2584 1439 2293 \r\nQ 1191 2003 1191 1497 \r\nQ 1191 994 1439 701 \r\nQ 1688 409 2113 409 \r\nQ 2538 409 2786 701 \r\nQ 3034 994 3034 1497 \r\nQ 3034 2003 2786 2293 \r\nQ 2538 2584 2113 2584 \r\nz\r\nM 3366 4563 \r\nL 3366 3988 \r\nQ 3128 4100 2886 4159 \r\nQ 2644 4219 2406 4219 \r\nQ 1781 4219 1451 3797 \r\nQ 1122 3375 1075 2522 \r\nQ 1259 2794 1537 2939 \r\nQ 1816 3084 2150 3084 \r\nQ 2853 3084 3261 2657 \r\nQ 3669 2231 3669 1497 \r\nQ 3669 778 3244 343 \r\nQ 2819 -91 2113 -91 \r\nQ 1303 -91 875 529 \r\nQ 447 1150 447 2328 \r\nQ 447 3434 972 4092 \r\nQ 1497 4750 2381 4750 \r\nQ 2619 4750 2861 4703 \r\nQ 3103 4656 3366 4563 \r\nz\r\n\" id=\"DejaVuSans-36\" transform=\"scale(0.015625)\"/>\r\n     </defs>\r\n     <use xlink:href=\"#DejaVuSans-31\"/>\r\n     <use x=\"63.623047\" xlink:href=\"#DejaVuSans-30\"/>\r\n     <use x=\"127.246094\" xlink:href=\"#DejaVuSans-35\"/>\r\n     <use x=\"190.869141\" xlink:href=\"#DejaVuSans-36\"/>\r\n    </g>\r\n   </g>\r\n   <g id=\"text_8\">\r\n    <!-- 466 -->\r\n    <g style=\"fill:#ffffff;\" transform=\"translate(228.8925 79.4375)scale(0.1 -0.1)\">\r\n     <defs>\r\n      <path d=\"M 2419 4116 \r\nL 825 1625 \r\nL 2419 1625 \r\nL 2419 4116 \r\nz\r\nM 2253 4666 \r\nL 3047 4666 \r\nL 3047 1625 \r\nL 3713 1625 \r\nL 3713 1100 \r\nL 3047 1100 \r\nL 3047 0 \r\nL 2419 0 \r\nL 2419 1100 \r\nL 313 1100 \r\nL 313 1709 \r\nL 2253 4666 \r\nz\r\n\" id=\"DejaVuSans-34\" transform=\"scale(0.015625)\"/>\r\n     </defs>\r\n     <use xlink:href=\"#DejaVuSans-34\"/>\r\n     <use x=\"63.623047\" xlink:href=\"#DejaVuSans-36\"/>\r\n     <use x=\"127.246094\" xlink:href=\"#DejaVuSans-36\"/>\r\n    </g>\r\n   </g>\r\n   <g id=\"text_9\">\r\n    <!-- 138 -->\r\n    <g style=\"fill:#ffffff;\" transform=\"translate(94.9725 188.1575)scale(0.1 -0.1)\">\r\n     <defs>\r\n      <path d=\"M 2597 2516 \r\nQ 3050 2419 3304 2112 \r\nQ 3559 1806 3559 1356 \r\nQ 3559 666 3084 287 \r\nQ 2609 -91 1734 -91 \r\nQ 1441 -91 1130 -33 \r\nQ 819 25 488 141 \r\nL 488 750 \r\nQ 750 597 1062 519 \r\nQ 1375 441 1716 441 \r\nQ 2309 441 2620 675 \r\nQ 2931 909 2931 1356 \r\nQ 2931 1769 2642 2001 \r\nQ 2353 2234 1838 2234 \r\nL 1294 2234 \r\nL 1294 2753 \r\nL 1863 2753 \r\nQ 2328 2753 2575 2939 \r\nQ 2822 3125 2822 3475 \r\nQ 2822 3834 2567 4026 \r\nQ 2313 4219 1838 4219 \r\nQ 1578 4219 1281 4162 \r\nQ 984 4106 628 3988 \r\nL 628 4550 \r\nQ 988 4650 1302 4700 \r\nQ 1616 4750 1894 4750 \r\nQ 2613 4750 3031 4423 \r\nQ 3450 4097 3450 3541 \r\nQ 3450 3153 3228 2886 \r\nQ 3006 2619 2597 2516 \r\nz\r\n\" id=\"DejaVuSans-33\" transform=\"scale(0.015625)\"/>\r\n      <path d=\"M 2034 2216 \r\nQ 1584 2216 1326 1975 \r\nQ 1069 1734 1069 1313 \r\nQ 1069 891 1326 650 \r\nQ 1584 409 2034 409 \r\nQ 2484 409 2743 651 \r\nQ 3003 894 3003 1313 \r\nQ 3003 1734 2745 1975 \r\nQ 2488 2216 2034 2216 \r\nz\r\nM 1403 2484 \r\nQ 997 2584 770 2862 \r\nQ 544 3141 544 3541 \r\nQ 544 4100 942 4425 \r\nQ 1341 4750 2034 4750 \r\nQ 2731 4750 3128 4425 \r\nQ 3525 4100 3525 3541 \r\nQ 3525 3141 3298 2862 \r\nQ 3072 2584 2669 2484 \r\nQ 3125 2378 3379 2068 \r\nQ 3634 1759 3634 1313 \r\nQ 3634 634 3220 271 \r\nQ 2806 -91 2034 -91 \r\nQ 1263 -91 848 271 \r\nQ 434 634 434 1313 \r\nQ 434 1759 690 2068 \r\nQ 947 2378 1403 2484 \r\nz\r\nM 1172 3481 \r\nQ 1172 3119 1398 2916 \r\nQ 1625 2713 2034 2713 \r\nQ 2441 2713 2670 2916 \r\nQ 2900 3119 2900 3481 \r\nQ 2900 3844 2670 4047 \r\nQ 2441 4250 2034 4250 \r\nQ 1625 4250 1398 4047 \r\nQ 1172 3844 1172 3481 \r\nz\r\n\" id=\"DejaVuSans-38\" transform=\"scale(0.015625)\"/>\r\n     </defs>\r\n     <use xlink:href=\"#DejaVuSans-31\"/>\r\n     <use x=\"63.623047\" xlink:href=\"#DejaVuSans-33\"/>\r\n     <use x=\"127.246094\" xlink:href=\"#DejaVuSans-38\"/>\r\n    </g>\r\n   </g>\r\n   <g id=\"text_10\">\r\n    <!-- 450 -->\r\n    <g style=\"fill:#ffffff;\" transform=\"translate(228.8925 188.1575)scale(0.1 -0.1)\">\r\n     <use xlink:href=\"#DejaVuSans-34\"/>\r\n     <use x=\"63.623047\" xlink:href=\"#DejaVuSans-35\"/>\r\n     <use x=\"127.246094\" xlink:href=\"#DejaVuSans-30\"/>\r\n    </g>\r\n   </g>\r\n   <g id=\"text_11\">\r\n    <!-- Confusion Matrix -->\r\n    <g transform=\"translate(120.834375 16.318125)scale(0.12 -0.12)\">\r\n     <defs>\r\n      <path d=\"M 4122 4306 \r\nL 4122 3641 \r\nQ 3803 3938 3442 4084 \r\nQ 3081 4231 2675 4231 \r\nQ 1875 4231 1450 3742 \r\nQ 1025 3253 1025 2328 \r\nQ 1025 1406 1450 917 \r\nQ 1875 428 2675 428 \r\nQ 3081 428 3442 575 \r\nQ 3803 722 4122 1019 \r\nL 4122 359 \r\nQ 3791 134 3420 21 \r\nQ 3050 -91 2638 -91 \r\nQ 1578 -91 968 557 \r\nQ 359 1206 359 2328 \r\nQ 359 3453 968 4101 \r\nQ 1578 4750 2638 4750 \r\nQ 3056 4750 3426 4639 \r\nQ 3797 4528 4122 4306 \r\nz\r\n\" id=\"DejaVuSans-43\" transform=\"scale(0.015625)\"/>\r\n      <path d=\"M 3513 2113 \r\nL 3513 0 \r\nL 2938 0 \r\nL 2938 2094 \r\nQ 2938 2591 2744 2837 \r\nQ 2550 3084 2163 3084 \r\nQ 1697 3084 1428 2787 \r\nQ 1159 2491 1159 1978 \r\nL 1159 0 \r\nL 581 0 \r\nL 581 3500 \r\nL 1159 3500 \r\nL 1159 2956 \r\nQ 1366 3272 1645 3428 \r\nQ 1925 3584 2291 3584 \r\nQ 2894 3584 3203 3211 \r\nQ 3513 2838 3513 2113 \r\nz\r\n\" id=\"DejaVuSans-6e\" transform=\"scale(0.015625)\"/>\r\n      <path d=\"M 2375 4863 \r\nL 2375 4384 \r\nL 1825 4384 \r\nQ 1516 4384 1395 4259 \r\nQ 1275 4134 1275 3809 \r\nL 1275 3500 \r\nL 2222 3500 \r\nL 2222 3053 \r\nL 1275 3053 \r\nL 1275 0 \r\nL 697 0 \r\nL 697 3053 \r\nL 147 3053 \r\nL 147 3500 \r\nL 697 3500 \r\nL 697 3744 \r\nQ 697 4328 969 4595 \r\nQ 1241 4863 1831 4863 \r\nL 2375 4863 \r\nz\r\n\" id=\"DejaVuSans-66\" transform=\"scale(0.015625)\"/>\r\n      <path d=\"M 628 4666 \r\nL 1569 4666 \r\nL 2759 1491 \r\nL 3956 4666 \r\nL 4897 4666 \r\nL 4897 0 \r\nL 4281 0 \r\nL 4281 4097 \r\nL 3078 897 \r\nL 2444 897 \r\nL 1241 4097 \r\nL 1241 0 \r\nL 628 0 \r\nL 628 4666 \r\nz\r\n\" id=\"DejaVuSans-4d\" transform=\"scale(0.015625)\"/>\r\n      <path d=\"M 3513 3500 \r\nL 2247 1797 \r\nL 3578 0 \r\nL 2900 0 \r\nL 1881 1375 \r\nL 863 0 \r\nL 184 0 \r\nL 1544 1831 \r\nL 300 3500 \r\nL 978 3500 \r\nL 1906 2253 \r\nL 2834 3500 \r\nL 3513 3500 \r\nz\r\n\" id=\"DejaVuSans-78\" transform=\"scale(0.015625)\"/>\r\n     </defs>\r\n     <use xlink:href=\"#DejaVuSans-43\"/>\r\n     <use x=\"69.824219\" xlink:href=\"#DejaVuSans-6f\"/>\r\n     <use x=\"131.005859\" xlink:href=\"#DejaVuSans-6e\"/>\r\n     <use x=\"194.384766\" xlink:href=\"#DejaVuSans-66\"/>\r\n     <use x=\"229.589844\" xlink:href=\"#DejaVuSans-75\"/>\r\n     <use x=\"292.96875\" xlink:href=\"#DejaVuSans-73\"/>\r\n     <use x=\"345.068359\" xlink:href=\"#DejaVuSans-69\"/>\r\n     <use x=\"372.851562\" xlink:href=\"#DejaVuSans-6f\"/>\r\n     <use x=\"434.033203\" xlink:href=\"#DejaVuSans-6e\"/>\r\n     <use x=\"497.412109\" xlink:href=\"#DejaVuSans-20\"/>\r\n     <use x=\"529.199219\" xlink:href=\"#DejaVuSans-4d\"/>\r\n     <use x=\"615.478516\" xlink:href=\"#DejaVuSans-61\"/>\r\n     <use x=\"676.757812\" xlink:href=\"#DejaVuSans-74\"/>\r\n     <use x=\"715.966797\" xlink:href=\"#DejaVuSans-72\"/>\r\n     <use x=\"757.080078\" xlink:href=\"#DejaVuSans-69\"/>\r\n     <use x=\"784.863281\" xlink:href=\"#DejaVuSans-78\"/>\r\n    </g>\r\n   </g>\r\n  </g>\r\n  <g id=\"axes_2\">\r\n   <g id=\"patch_3\">\r\n    <path d=\"M 322.13625 239.758125 \r\nL 333.00825 239.758125 \r\nL 333.00825 22.318125 \r\nL 322.13625 22.318125 \r\nz\r\n\" style=\"fill:#ffffff;\"/>\r\n   </g>\r\n   <g id=\"patch_4\">\r\n    <path clip-path=\"url(#pa15879fd56)\" d=\"M 322.13625 239.758125 \r\nL 322.13625 238.90875 \r\nL 322.13625 23.1675 \r\nL 322.13625 22.318125 \r\nL 333.00825 22.318125 \r\nL 333.00825 23.1675 \r\nL 333.00825 238.90875 \r\nL 333.00825 239.758125 \r\nL 333.00825 239.758125 \r\nz\r\n\" style=\"fill:#ffffff;stroke:#ffffff;stroke-linejoin:miter;stroke-width:0.01;\"/>\r\n   </g>\r\n   <image height=\"217\" id=\"image371b9efdba\" transform=\"scale(1 -1)translate(0 -217)\" width=\"11\" x=\"322\" xlink:href=\"data:image/png;base64,\r\niVBORw0KGgoAAAANSUhEUgAAAAsAAADZCAYAAAD2WsoCAAABSklEQVR4nO2YMQ7DQAgE4SCfyP/fGadOxxQjYSuu0WrYRdz5sl/vK4ZfZ+a0lhaHpXxIceWxMJ7eIEoQMXs+QzdIseeG1qCHISqLca9gFof/hgkiNyrI8I9L3c3PrJt/cBUQZS9uD8MbftM6oMwaZCMKMNbEDZRN5hUYbDbGvweyG6AYDj/BIG54DTI3tARZ3BpGLwlFxJhLm25cAMNcBQCjNGbYoIVR8QHKwGiROcEu6EOKixR7GODCaGIcsJJgg0SZuUGU64DhBz9AMJQlbhxw0kNm0TqijJiZGwjDKgYvFtHZOzDAoWIqg0uEyBxEGTZovV4iZlgMmJl1xI0gb1+eG6m5ETV/4RBD8XxO8ISjxo2mTlMW3SBLRpwNUuwNv8f8+AbFuOf3njXMO9zI9I4JzQ0W94rFiJRZKFuGf4XPidz4N/iDMW/wC9X2KyOK/e8fAAAAAElFTkSuQmCC\" y=\"-22\"/>\r\n   <g id=\"matplotlib.axis_3\"/>\r\n   <g id=\"matplotlib.axis_4\">\r\n    <g id=\"ytick_3\">\r\n     <g id=\"line2d_5\">\r\n      <defs>\r\n       <path d=\"M 0 0 \r\nL 3.5 0 \r\n\" id=\"m209f3e6580\" style=\"stroke:#000000;stroke-width:0.8;\"/>\r\n      </defs>\r\n      <g>\r\n       <use style=\"stroke:#000000;stroke-width:0.8;\" x=\"333.00825\" xlink:href=\"#m209f3e6580\" y=\"225.072635\"/>\r\n      </g>\r\n     </g>\r\n     <g id=\"text_12\">\r\n      <!-- 200 -->\r\n      <g transform=\"translate(340.00825 228.871854)scale(0.1 -0.1)\">\r\n       <defs>\r\n        <path d=\"M 1228 531 \r\nL 3431 531 \r\nL 3431 0 \r\nL 469 0 \r\nL 469 531 \r\nQ 828 903 1448 1529 \r\nQ 2069 2156 2228 2338 \r\nQ 2531 2678 2651 2914 \r\nQ 2772 3150 2772 3378 \r\nQ 2772 3750 2511 3984 \r\nQ 2250 4219 1831 4219 \r\nQ 1534 4219 1204 4116 \r\nQ 875 4013 500 3803 \r\nL 500 4441 \r\nQ 881 4594 1212 4672 \r\nQ 1544 4750 1819 4750 \r\nQ 2544 4750 2975 4387 \r\nQ 3406 4025 3406 3419 \r\nQ 3406 3131 3298 2873 \r\nQ 3191 2616 2906 2266 \r\nQ 2828 2175 2409 1742 \r\nQ 1991 1309 1228 531 \r\nz\r\n\" id=\"DejaVuSans-32\" transform=\"scale(0.015625)\"/>\r\n       </defs>\r\n       <use xlink:href=\"#DejaVuSans-32\"/>\r\n       <use x=\"63.623047\" xlink:href=\"#DejaVuSans-30\"/>\r\n       <use x=\"127.246094\" xlink:href=\"#DejaVuSans-30\"/>\r\n      </g>\r\n     </g>\r\n    </g>\r\n    <g id=\"ytick_4\">\r\n     <g id=\"line2d_6\">\r\n      <g>\r\n       <use style=\"stroke:#000000;stroke-width:0.8;\" x=\"333.00825\" xlink:href=\"#m209f3e6580\" y=\"177.700086\"/>\r\n      </g>\r\n     </g>\r\n     <g id=\"text_13\">\r\n      <!-- 400 -->\r\n      <g transform=\"translate(340.00825 181.499305)scale(0.1 -0.1)\">\r\n       <use xlink:href=\"#DejaVuSans-34\"/>\r\n       <use x=\"63.623047\" xlink:href=\"#DejaVuSans-30\"/>\r\n       <use x=\"127.246094\" xlink:href=\"#DejaVuSans-30\"/>\r\n      </g>\r\n     </g>\r\n    </g>\r\n    <g id=\"ytick_5\">\r\n     <g id=\"line2d_7\">\r\n      <g>\r\n       <use style=\"stroke:#000000;stroke-width:0.8;\" x=\"333.00825\" xlink:href=\"#m209f3e6580\" y=\"130.327537\"/>\r\n      </g>\r\n     </g>\r\n     <g id=\"text_14\">\r\n      <!-- 600 -->\r\n      <g transform=\"translate(340.00825 134.126756)scale(0.1 -0.1)\">\r\n       <use xlink:href=\"#DejaVuSans-36\"/>\r\n       <use x=\"63.623047\" xlink:href=\"#DejaVuSans-30\"/>\r\n       <use x=\"127.246094\" xlink:href=\"#DejaVuSans-30\"/>\r\n      </g>\r\n     </g>\r\n    </g>\r\n    <g id=\"ytick_6\">\r\n     <g id=\"line2d_8\">\r\n      <g>\r\n       <use style=\"stroke:#000000;stroke-width:0.8;\" x=\"333.00825\" xlink:href=\"#m209f3e6580\" y=\"82.954988\"/>\r\n      </g>\r\n     </g>\r\n     <g id=\"text_15\">\r\n      <!-- 800 -->\r\n      <g transform=\"translate(340.00825 86.754206)scale(0.1 -0.1)\">\r\n       <use xlink:href=\"#DejaVuSans-38\"/>\r\n       <use x=\"63.623047\" xlink:href=\"#DejaVuSans-30\"/>\r\n       <use x=\"127.246094\" xlink:href=\"#DejaVuSans-30\"/>\r\n      </g>\r\n     </g>\r\n    </g>\r\n    <g id=\"ytick_7\">\r\n     <g id=\"line2d_9\">\r\n      <g>\r\n       <use style=\"stroke:#000000;stroke-width:0.8;\" x=\"333.00825\" xlink:href=\"#m209f3e6580\" y=\"35.582439\"/>\r\n      </g>\r\n     </g>\r\n     <g id=\"text_16\">\r\n      <!-- 1000 -->\r\n      <g transform=\"translate(340.00825 39.381657)scale(0.1 -0.1)\">\r\n       <use xlink:href=\"#DejaVuSans-31\"/>\r\n       <use x=\"63.623047\" xlink:href=\"#DejaVuSans-30\"/>\r\n       <use x=\"127.246094\" xlink:href=\"#DejaVuSans-30\"/>\r\n       <use x=\"190.869141\" xlink:href=\"#DejaVuSans-30\"/>\r\n      </g>\r\n     </g>\r\n    </g>\r\n   </g>\r\n   <g id=\"LineCollection_1\"/>\r\n   <g id=\"patch_5\">\r\n    <path d=\"M 322.13625 239.758125 \r\nL 322.13625 238.90875 \r\nL 322.13625 23.1675 \r\nL 322.13625 22.318125 \r\nL 333.00825 22.318125 \r\nL 333.00825 23.1675 \r\nL 333.00825 238.90875 \r\nL 333.00825 239.758125 \r\nz\r\n\" style=\"fill:none;\"/>\r\n   </g>\r\n  </g>\r\n </g>\r\n <defs>\r\n  <clipPath id=\"p056de9e6f9\">\r\n   <rect height=\"217.44\" width=\"267.84\" x=\"37.55625\" y=\"22.318125\"/>\r\n  </clipPath>\r\n  <clipPath id=\"pa15879fd56\">\r\n   <rect height=\"217.44\" width=\"10.872\" x=\"322.13625\" y=\"22.318125\"/>\r\n  </clipPath>\r\n </defs>\r\n</svg>\r\n",
      "image/png": "[encoded data removed]"
     },
     "metadata": {
      "needs_background": "light"
     }
    }
   ],
   "source": [
    "# Confusion Matrices typically are displayed in a graphical manner. Run this cell to display the matrix using this code snippet found online.\n",
    "labels = ['No','Yes']\n",
    "ax= plt.subplot()\n",
    "sn.heatmap(cm, annot=True, ax = ax, fmt=\"d\"); #annot=True to annotate cells\n",
    "\n",
    "# labels, title and ticks\n",
    "ax.set_xlabel('Predicted labels');ax.set_ylabel('True labels'); \n",
    "ax.set_title('Confusion Matrix'); \n",
    "ax.xaxis.set_ticklabels(labels); ax.yaxis.set_ticklabels(labels)\n",
    "plt.savefig(fname=\"confusion_rand_smote.png\")\n",
    "plt.show()"
   ]
  },
  {
   "cell_type": "code",
   "execution_count": 24,
   "metadata": {},
   "outputs": [
    {
     "output_type": "stream",
     "name": "stdout",
     "text": [
      "Accuracy: 0.71374\n"
     ]
    }
   ],
   "source": [
    "# TASK: Calculate the 4 following metrics using the correct function\n",
    "# OPTIONAL: Calculate these metrics by hand (using the formulas in the reference blog posts) to validate the values\n",
    "\n",
    "# 1. Accuracy = Sum of correctly predicted outcomes divided by total number of samples\n",
    "accuracy = accuracy_score(y_test, pred_test)\n",
    "print(\"Accuracy: {:.5f}\".format(accuracy))"
   ]
  },
  {
   "cell_type": "code",
   "execution_count": 25,
   "metadata": {},
   "outputs": [
    {
     "output_type": "stream",
     "name": "stdout",
     "text": [
      "Precision: 0.49127\n"
     ]
    }
   ],
   "source": [
    "# 2. Precision - Of those predicted positive, how many of them are actual positive.\n",
    "precision = precision_score(y_test, pred_test)\n",
    "print(\"Precision: {:.5f}\".format(precision))"
   ]
  },
  {
   "cell_type": "code",
   "execution_count": 26,
   "metadata": {},
   "outputs": [
    {
     "output_type": "stream",
     "name": "stdout",
     "text": [
      "Recall: 0.76531\n"
     ]
    }
   ],
   "source": [
    "# 3. Recall - how many of the actual positives our model is predicting as positives\n",
    "recall = recall_score(y_test, pred_test)\n",
    "print(\"Recall: {:.5f}\".format(recall))"
   ]
  },
  {
   "cell_type": "code",
   "execution_count": 27,
   "metadata": {},
   "outputs": [
    {
     "output_type": "stream",
     "name": "stdout",
     "text": [
      "F1 Score: 0.59840\n"
     ]
    }
   ],
   "source": [
    "# 4. F1 score\n",
    "f1 = f1_score(y_test, pred_test)\n",
    "print(\"F1 Score: {:.5f}\".format(f1))"
   ]
  },
  {
   "cell_type": "code",
   "execution_count": 28,
   "metadata": {},
   "outputs": [
    {
     "output_type": "stream",
     "name": "stdout",
     "text": [
      "              precision    recall  f1-score   support\n\n           0    0.88442   0.69382   0.77761      1522\n           1    0.49127   0.76531   0.59840       588\n\n    accuracy                        0.71374      2110\n   macro avg    0.68784   0.72957   0.68801      2110\nweighted avg    0.77486   0.71374   0.72767      2110\n\n"
     ]
    }
   ],
   "source": [
    "# Alternatively, we can calculate all these metrics in one call using the classification_report function\n",
    "print(classification_report(y_test, pred_test, digits=5))"
   ]
  },
  {
   "cell_type": "markdown",
   "metadata": {},
   "source": [
    "At this point, take a step back and try to understand these numbers. \n",
    "\n",
    "- What do these metrics mean in the context of the problem? \n",
    "- Which error (Type 1 or Type 2) is more important for this problem? And thus which metric is more important, Precision or Recall?"
   ]
  },
  {
   "cell_type": "code",
   "execution_count": 29,
   "metadata": {},
   "outputs": [],
   "source": [
    "# TASK: Compute ROC and AUC. Note that roc_curve() returns 3 values. You will only need the first 2 as input to auc()\n",
    "fpr, tpr, _ = roc_curve(y_test, pred_test)\n",
    "roc_auc = auc(fpr, tpr)"
   ]
  },
  {
   "cell_type": "code",
   "execution_count": 30,
   "metadata": {},
   "outputs": [
    {
     "output_type": "display_data",
     "data": {
      "text/plain": "<Figure size 432x288 with 1 Axes>",
      "image/svg+xml": "<?xml version=\"1.0\" encoding=\"utf-8\" standalone=\"no\"?>\r\n<!DOCTYPE svg PUBLIC \"-//W3C//DTD SVG 1.1//EN\"\r\n  \"http://www.w3.org/Graphics/SVG/1.1/DTD/svg11.dtd\">\r\n<svg height=\"277.314375pt\" version=\"1.1\" viewBox=\"0 0 393.732813 277.314375\" width=\"393.732813pt\" xmlns=\"http://www.w3.org/2000/svg\" xmlns:xlink=\"http://www.w3.org/1999/xlink\">\r\n <metadata>\r\n  <rdf:RDF xmlns:cc=\"http://creativecommons.org/ns#\" xmlns:dc=\"http://purl.org/dc/elements/1.1/\" xmlns:rdf=\"http://www.w3.org/1999/02/22-rdf-syntax-ns#\">\r\n   <cc:Work>\r\n    <dc:type rdf:resource=\"http://purl.org/dc/dcmitype/StillImage\"/>\r\n    <dc:date>2021-05-30T17:41:20.205718</dc:date>\r\n    <dc:format>image/svg+xml</dc:format>\r\n    <dc:creator>\r\n     <cc:Agent>\r\n      <dc:title>Matplotlib v3.4.1, https://matplotlib.org/</dc:title>\r\n     </cc:Agent>\r\n    </dc:creator>\r\n   </cc:Work>\r\n  </rdf:RDF>\r\n </metadata>\r\n <defs>\r\n  <style type=\"text/css\">*{stroke-linecap:butt;stroke-linejoin:round;}</style>\r\n </defs>\r\n <g id=\"figure_1\">\r\n  <g id=\"patch_1\">\r\n   <path d=\"M 0 277.314375 \r\nL 393.732813 277.314375 \r\nL 393.732813 0 \r\nL 0 0 \r\nz\r\n\" style=\"fill:none;\"/>\r\n  </g>\r\n  <g id=\"axes_1\">\r\n   <g id=\"patch_2\">\r\n    <path d=\"M 43.78125 239.758125 \r\nL 378.58125 239.758125 \r\nL 378.58125 22.318125 \r\nL 43.78125 22.318125 \r\nz\r\n\" style=\"fill:#ffffff;\"/>\r\n   </g>\r\n   <g id=\"matplotlib.axis_1\">\r\n    <g id=\"xtick_1\">\r\n     <g id=\"line2d_1\">\r\n      <defs>\r\n       <path d=\"M 0 0 \r\nL 0 3.5 \r\n\" id=\"m85ce657e8c\" style=\"stroke:#000000;stroke-width:0.8;\"/>\r\n      </defs>\r\n      <g>\r\n       <use style=\"stroke:#000000;stroke-width:0.8;\" x=\"43.78125\" xlink:href=\"#m85ce657e8c\" y=\"239.758125\"/>\r\n      </g>\r\n     </g>\r\n     <g id=\"text_1\">\r\n      <!-- 0.0 -->\r\n      <g transform=\"translate(35.829688 254.356562)scale(0.1 -0.1)\">\r\n       <defs>\r\n        <path d=\"M 2034 4250 \r\nQ 1547 4250 1301 3770 \r\nQ 1056 3291 1056 2328 \r\nQ 1056 1369 1301 889 \r\nQ 1547 409 2034 409 \r\nQ 2525 409 2770 889 \r\nQ 3016 1369 3016 2328 \r\nQ 3016 3291 2770 3770 \r\nQ 2525 4250 2034 4250 \r\nz\r\nM 2034 4750 \r\nQ 2819 4750 3233 4129 \r\nQ 3647 3509 3647 2328 \r\nQ 3647 1150 3233 529 \r\nQ 2819 -91 2034 -91 \r\nQ 1250 -91 836 529 \r\nQ 422 1150 422 2328 \r\nQ 422 3509 836 4129 \r\nQ 1250 4750 2034 4750 \r\nz\r\n\" id=\"DejaVuSans-30\" transform=\"scale(0.015625)\"/>\r\n        <path d=\"M 684 794 \r\nL 1344 794 \r\nL 1344 0 \r\nL 684 0 \r\nL 684 794 \r\nz\r\n\" id=\"DejaVuSans-2e\" transform=\"scale(0.015625)\"/>\r\n       </defs>\r\n       <use xlink:href=\"#DejaVuSans-30\"/>\r\n       <use x=\"63.623047\" xlink:href=\"#DejaVuSans-2e\"/>\r\n       <use x=\"95.410156\" xlink:href=\"#DejaVuSans-30\"/>\r\n      </g>\r\n     </g>\r\n    </g>\r\n    <g id=\"xtick_2\">\r\n     <g id=\"line2d_2\">\r\n      <g>\r\n       <use style=\"stroke:#000000;stroke-width:0.8;\" x=\"110.74125\" xlink:href=\"#m85ce657e8c\" y=\"239.758125\"/>\r\n      </g>\r\n     </g>\r\n     <g id=\"text_2\">\r\n      <!-- 0.2 -->\r\n      <g transform=\"translate(102.789688 254.356562)scale(0.1 -0.1)\">\r\n       <defs>\r\n        <path d=\"M 1228 531 \r\nL 3431 531 \r\nL 3431 0 \r\nL 469 0 \r\nL 469 531 \r\nQ 828 903 1448 1529 \r\nQ 2069 2156 2228 2338 \r\nQ 2531 2678 2651 2914 \r\nQ 2772 3150 2772 3378 \r\nQ 2772 3750 2511 3984 \r\nQ 2250 4219 1831 4219 \r\nQ 1534 4219 1204 4116 \r\nQ 875 4013 500 3803 \r\nL 500 4441 \r\nQ 881 4594 1212 4672 \r\nQ 1544 4750 1819 4750 \r\nQ 2544 4750 2975 4387 \r\nQ 3406 4025 3406 3419 \r\nQ 3406 3131 3298 2873 \r\nQ 3191 2616 2906 2266 \r\nQ 2828 2175 2409 1742 \r\nQ 1991 1309 1228 531 \r\nz\r\n\" id=\"DejaVuSans-32\" transform=\"scale(0.015625)\"/>\r\n       </defs>\r\n       <use xlink:href=\"#DejaVuSans-30\"/>\r\n       <use x=\"63.623047\" xlink:href=\"#DejaVuSans-2e\"/>\r\n       <use x=\"95.410156\" xlink:href=\"#DejaVuSans-32\"/>\r\n      </g>\r\n     </g>\r\n    </g>\r\n    <g id=\"xtick_3\">\r\n     <g id=\"line2d_3\">\r\n      <g>\r\n       <use style=\"stroke:#000000;stroke-width:0.8;\" x=\"177.70125\" xlink:href=\"#m85ce657e8c\" y=\"239.758125\"/>\r\n      </g>\r\n     </g>\r\n     <g id=\"text_3\">\r\n      <!-- 0.4 -->\r\n      <g transform=\"translate(169.749688 254.356562)scale(0.1 -0.1)\">\r\n       <defs>\r\n        <path d=\"M 2419 4116 \r\nL 825 1625 \r\nL 2419 1625 \r\nL 2419 4116 \r\nz\r\nM 2253 4666 \r\nL 3047 4666 \r\nL 3047 1625 \r\nL 3713 1625 \r\nL 3713 1100 \r\nL 3047 1100 \r\nL 3047 0 \r\nL 2419 0 \r\nL 2419 1100 \r\nL 313 1100 \r\nL 313 1709 \r\nL 2253 4666 \r\nz\r\n\" id=\"DejaVuSans-34\" transform=\"scale(0.015625)\"/>\r\n       </defs>\r\n       <use xlink:href=\"#DejaVuSans-30\"/>\r\n       <use x=\"63.623047\" xlink:href=\"#DejaVuSans-2e\"/>\r\n       <use x=\"95.410156\" xlink:href=\"#DejaVuSans-34\"/>\r\n      </g>\r\n     </g>\r\n    </g>\r\n    <g id=\"xtick_4\">\r\n     <g id=\"line2d_4\">\r\n      <g>\r\n       <use style=\"stroke:#000000;stroke-width:0.8;\" x=\"244.66125\" xlink:href=\"#m85ce657e8c\" y=\"239.758125\"/>\r\n      </g>\r\n     </g>\r\n     <g id=\"text_4\">\r\n      <!-- 0.6 -->\r\n      <g transform=\"translate(236.709688 254.356562)scale(0.1 -0.1)\">\r\n       <defs>\r\n        <path d=\"M 2113 2584 \r\nQ 1688 2584 1439 2293 \r\nQ 1191 2003 1191 1497 \r\nQ 1191 994 1439 701 \r\nQ 1688 409 2113 409 \r\nQ 2538 409 2786 701 \r\nQ 3034 994 3034 1497 \r\nQ 3034 2003 2786 2293 \r\nQ 2538 2584 2113 2584 \r\nz\r\nM 3366 4563 \r\nL 3366 3988 \r\nQ 3128 4100 2886 4159 \r\nQ 2644 4219 2406 4219 \r\nQ 1781 4219 1451 3797 \r\nQ 1122 3375 1075 2522 \r\nQ 1259 2794 1537 2939 \r\nQ 1816 3084 2150 3084 \r\nQ 2853 3084 3261 2657 \r\nQ 3669 2231 3669 1497 \r\nQ 3669 778 3244 343 \r\nQ 2819 -91 2113 -91 \r\nQ 1303 -91 875 529 \r\nQ 447 1150 447 2328 \r\nQ 447 3434 972 4092 \r\nQ 1497 4750 2381 4750 \r\nQ 2619 4750 2861 4703 \r\nQ 3103 4656 3366 4563 \r\nz\r\n\" id=\"DejaVuSans-36\" transform=\"scale(0.015625)\"/>\r\n       </defs>\r\n       <use xlink:href=\"#DejaVuSans-30\"/>\r\n       <use x=\"63.623047\" xlink:href=\"#DejaVuSans-2e\"/>\r\n       <use x=\"95.410156\" xlink:href=\"#DejaVuSans-36\"/>\r\n      </g>\r\n     </g>\r\n    </g>\r\n    <g id=\"xtick_5\">\r\n     <g id=\"line2d_5\">\r\n      <g>\r\n       <use style=\"stroke:#000000;stroke-width:0.8;\" x=\"311.62125\" xlink:href=\"#m85ce657e8c\" y=\"239.758125\"/>\r\n      </g>\r\n     </g>\r\n     <g id=\"text_5\">\r\n      <!-- 0.8 -->\r\n      <g transform=\"translate(303.669688 254.356562)scale(0.1 -0.1)\">\r\n       <defs>\r\n        <path d=\"M 2034 2216 \r\nQ 1584 2216 1326 1975 \r\nQ 1069 1734 1069 1313 \r\nQ 1069 891 1326 650 \r\nQ 1584 409 2034 409 \r\nQ 2484 409 2743 651 \r\nQ 3003 894 3003 1313 \r\nQ 3003 1734 2745 1975 \r\nQ 2488 2216 2034 2216 \r\nz\r\nM 1403 2484 \r\nQ 997 2584 770 2862 \r\nQ 544 3141 544 3541 \r\nQ 544 4100 942 4425 \r\nQ 1341 4750 2034 4750 \r\nQ 2731 4750 3128 4425 \r\nQ 3525 4100 3525 3541 \r\nQ 3525 3141 3298 2862 \r\nQ 3072 2584 2669 2484 \r\nQ 3125 2378 3379 2068 \r\nQ 3634 1759 3634 1313 \r\nQ 3634 634 3220 271 \r\nQ 2806 -91 2034 -91 \r\nQ 1263 -91 848 271 \r\nQ 434 634 434 1313 \r\nQ 434 1759 690 2068 \r\nQ 947 2378 1403 2484 \r\nz\r\nM 1172 3481 \r\nQ 1172 3119 1398 2916 \r\nQ 1625 2713 2034 2713 \r\nQ 2441 2713 2670 2916 \r\nQ 2900 3119 2900 3481 \r\nQ 2900 3844 2670 4047 \r\nQ 2441 4250 2034 4250 \r\nQ 1625 4250 1398 4047 \r\nQ 1172 3844 1172 3481 \r\nz\r\n\" id=\"DejaVuSans-38\" transform=\"scale(0.015625)\"/>\r\n       </defs>\r\n       <use xlink:href=\"#DejaVuSans-30\"/>\r\n       <use x=\"63.623047\" xlink:href=\"#DejaVuSans-2e\"/>\r\n       <use x=\"95.410156\" xlink:href=\"#DejaVuSans-38\"/>\r\n      </g>\r\n     </g>\r\n    </g>\r\n    <g id=\"xtick_6\">\r\n     <g id=\"line2d_6\">\r\n      <g>\r\n       <use style=\"stroke:#000000;stroke-width:0.8;\" x=\"378.58125\" xlink:href=\"#m85ce657e8c\" y=\"239.758125\"/>\r\n      </g>\r\n     </g>\r\n     <g id=\"text_6\">\r\n      <!-- 1.0 -->\r\n      <g transform=\"translate(370.629687 254.356562)scale(0.1 -0.1)\">\r\n       <defs>\r\n        <path d=\"M 794 531 \r\nL 1825 531 \r\nL 1825 4091 \r\nL 703 3866 \r\nL 703 4441 \r\nL 1819 4666 \r\nL 2450 4666 \r\nL 2450 531 \r\nL 3481 531 \r\nL 3481 0 \r\nL 794 0 \r\nL 794 531 \r\nz\r\n\" id=\"DejaVuSans-31\" transform=\"scale(0.015625)\"/>\r\n       </defs>\r\n       <use xlink:href=\"#DejaVuSans-31\"/>\r\n       <use x=\"63.623047\" xlink:href=\"#DejaVuSans-2e\"/>\r\n       <use x=\"95.410156\" xlink:href=\"#DejaVuSans-30\"/>\r\n      </g>\r\n     </g>\r\n    </g>\r\n    <g id=\"text_7\">\r\n     <!-- False Positive Rate -->\r\n     <g transform=\"translate(164.714844 268.034687)scale(0.1 -0.1)\">\r\n      <defs>\r\n       <path d=\"M 628 4666 \r\nL 3309 4666 \r\nL 3309 4134 \r\nL 1259 4134 \r\nL 1259 2759 \r\nL 3109 2759 \r\nL 3109 2228 \r\nL 1259 2228 \r\nL 1259 0 \r\nL 628 0 \r\nL 628 4666 \r\nz\r\n\" id=\"DejaVuSans-46\" transform=\"scale(0.015625)\"/>\r\n       <path d=\"M 2194 1759 \r\nQ 1497 1759 1228 1600 \r\nQ 959 1441 959 1056 \r\nQ 959 750 1161 570 \r\nQ 1363 391 1709 391 \r\nQ 2188 391 2477 730 \r\nQ 2766 1069 2766 1631 \r\nL 2766 1759 \r\nL 2194 1759 \r\nz\r\nM 3341 1997 \r\nL 3341 0 \r\nL 2766 0 \r\nL 2766 531 \r\nQ 2569 213 2275 61 \r\nQ 1981 -91 1556 -91 \r\nQ 1019 -91 701 211 \r\nQ 384 513 384 1019 \r\nQ 384 1609 779 1909 \r\nQ 1175 2209 1959 2209 \r\nL 2766 2209 \r\nL 2766 2266 \r\nQ 2766 2663 2505 2880 \r\nQ 2244 3097 1772 3097 \r\nQ 1472 3097 1187 3025 \r\nQ 903 2953 641 2809 \r\nL 641 3341 \r\nQ 956 3463 1253 3523 \r\nQ 1550 3584 1831 3584 \r\nQ 2591 3584 2966 3190 \r\nQ 3341 2797 3341 1997 \r\nz\r\n\" id=\"DejaVuSans-61\" transform=\"scale(0.015625)\"/>\r\n       <path d=\"M 603 4863 \r\nL 1178 4863 \r\nL 1178 0 \r\nL 603 0 \r\nL 603 4863 \r\nz\r\n\" id=\"DejaVuSans-6c\" transform=\"scale(0.015625)\"/>\r\n       <path d=\"M 2834 3397 \r\nL 2834 2853 \r\nQ 2591 2978 2328 3040 \r\nQ 2066 3103 1784 3103 \r\nQ 1356 3103 1142 2972 \r\nQ 928 2841 928 2578 \r\nQ 928 2378 1081 2264 \r\nQ 1234 2150 1697 2047 \r\nL 1894 2003 \r\nQ 2506 1872 2764 1633 \r\nQ 3022 1394 3022 966 \r\nQ 3022 478 2636 193 \r\nQ 2250 -91 1575 -91 \r\nQ 1294 -91 989 -36 \r\nQ 684 19 347 128 \r\nL 347 722 \r\nQ 666 556 975 473 \r\nQ 1284 391 1588 391 \r\nQ 1994 391 2212 530 \r\nQ 2431 669 2431 922 \r\nQ 2431 1156 2273 1281 \r\nQ 2116 1406 1581 1522 \r\nL 1381 1569 \r\nQ 847 1681 609 1914 \r\nQ 372 2147 372 2553 \r\nQ 372 3047 722 3315 \r\nQ 1072 3584 1716 3584 \r\nQ 2034 3584 2315 3537 \r\nQ 2597 3491 2834 3397 \r\nz\r\n\" id=\"DejaVuSans-73\" transform=\"scale(0.015625)\"/>\r\n       <path d=\"M 3597 1894 \r\nL 3597 1613 \r\nL 953 1613 \r\nQ 991 1019 1311 708 \r\nQ 1631 397 2203 397 \r\nQ 2534 397 2845 478 \r\nQ 3156 559 3463 722 \r\nL 3463 178 \r\nQ 3153 47 2828 -22 \r\nQ 2503 -91 2169 -91 \r\nQ 1331 -91 842 396 \r\nQ 353 884 353 1716 \r\nQ 353 2575 817 3079 \r\nQ 1281 3584 2069 3584 \r\nQ 2775 3584 3186 3129 \r\nQ 3597 2675 3597 1894 \r\nz\r\nM 3022 2063 \r\nQ 3016 2534 2758 2815 \r\nQ 2500 3097 2075 3097 \r\nQ 1594 3097 1305 2825 \r\nQ 1016 2553 972 2059 \r\nL 3022 2063 \r\nz\r\n\" id=\"DejaVuSans-65\" transform=\"scale(0.015625)\"/>\r\n       <path id=\"DejaVuSans-20\" transform=\"scale(0.015625)\"/>\r\n       <path d=\"M 1259 4147 \r\nL 1259 2394 \r\nL 2053 2394 \r\nQ 2494 2394 2734 2622 \r\nQ 2975 2850 2975 3272 \r\nQ 2975 3691 2734 3919 \r\nQ 2494 4147 2053 4147 \r\nL 1259 4147 \r\nz\r\nM 628 4666 \r\nL 2053 4666 \r\nQ 2838 4666 3239 4311 \r\nQ 3641 3956 3641 3272 \r\nQ 3641 2581 3239 2228 \r\nQ 2838 1875 2053 1875 \r\nL 1259 1875 \r\nL 1259 0 \r\nL 628 0 \r\nL 628 4666 \r\nz\r\n\" id=\"DejaVuSans-50\" transform=\"scale(0.015625)\"/>\r\n       <path d=\"M 1959 3097 \r\nQ 1497 3097 1228 2736 \r\nQ 959 2375 959 1747 \r\nQ 959 1119 1226 758 \r\nQ 1494 397 1959 397 \r\nQ 2419 397 2687 759 \r\nQ 2956 1122 2956 1747 \r\nQ 2956 2369 2687 2733 \r\nQ 2419 3097 1959 3097 \r\nz\r\nM 1959 3584 \r\nQ 2709 3584 3137 3096 \r\nQ 3566 2609 3566 1747 \r\nQ 3566 888 3137 398 \r\nQ 2709 -91 1959 -91 \r\nQ 1206 -91 779 398 \r\nQ 353 888 353 1747 \r\nQ 353 2609 779 3096 \r\nQ 1206 3584 1959 3584 \r\nz\r\n\" id=\"DejaVuSans-6f\" transform=\"scale(0.015625)\"/>\r\n       <path d=\"M 603 3500 \r\nL 1178 3500 \r\nL 1178 0 \r\nL 603 0 \r\nL 603 3500 \r\nz\r\nM 603 4863 \r\nL 1178 4863 \r\nL 1178 4134 \r\nL 603 4134 \r\nL 603 4863 \r\nz\r\n\" id=\"DejaVuSans-69\" transform=\"scale(0.015625)\"/>\r\n       <path d=\"M 1172 4494 \r\nL 1172 3500 \r\nL 2356 3500 \r\nL 2356 3053 \r\nL 1172 3053 \r\nL 1172 1153 \r\nQ 1172 725 1289 603 \r\nQ 1406 481 1766 481 \r\nL 2356 481 \r\nL 2356 0 \r\nL 1766 0 \r\nQ 1100 0 847 248 \r\nQ 594 497 594 1153 \r\nL 594 3053 \r\nL 172 3053 \r\nL 172 3500 \r\nL 594 3500 \r\nL 594 4494 \r\nL 1172 4494 \r\nz\r\n\" id=\"DejaVuSans-74\" transform=\"scale(0.015625)\"/>\r\n       <path d=\"M 191 3500 \r\nL 800 3500 \r\nL 1894 563 \r\nL 2988 3500 \r\nL 3597 3500 \r\nL 2284 0 \r\nL 1503 0 \r\nL 191 3500 \r\nz\r\n\" id=\"DejaVuSans-76\" transform=\"scale(0.015625)\"/>\r\n       <path d=\"M 2841 2188 \r\nQ 3044 2119 3236 1894 \r\nQ 3428 1669 3622 1275 \r\nL 4263 0 \r\nL 3584 0 \r\nL 2988 1197 \r\nQ 2756 1666 2539 1819 \r\nQ 2322 1972 1947 1972 \r\nL 1259 1972 \r\nL 1259 0 \r\nL 628 0 \r\nL 628 4666 \r\nL 2053 4666 \r\nQ 2853 4666 3247 4331 \r\nQ 3641 3997 3641 3322 \r\nQ 3641 2881 3436 2590 \r\nQ 3231 2300 2841 2188 \r\nz\r\nM 1259 4147 \r\nL 1259 2491 \r\nL 2053 2491 \r\nQ 2509 2491 2742 2702 \r\nQ 2975 2913 2975 3322 \r\nQ 2975 3731 2742 3939 \r\nQ 2509 4147 2053 4147 \r\nL 1259 4147 \r\nz\r\n\" id=\"DejaVuSans-52\" transform=\"scale(0.015625)\"/>\r\n      </defs>\r\n      <use xlink:href=\"#DejaVuSans-46\"/>\r\n      <use x=\"48.394531\" xlink:href=\"#DejaVuSans-61\"/>\r\n      <use x=\"109.673828\" xlink:href=\"#DejaVuSans-6c\"/>\r\n      <use x=\"137.457031\" xlink:href=\"#DejaVuSans-73\"/>\r\n      <use x=\"189.556641\" xlink:href=\"#DejaVuSans-65\"/>\r\n      <use x=\"251.080078\" xlink:href=\"#DejaVuSans-20\"/>\r\n      <use x=\"282.867188\" xlink:href=\"#DejaVuSans-50\"/>\r\n      <use x=\"339.544922\" xlink:href=\"#DejaVuSans-6f\"/>\r\n      <use x=\"400.726562\" xlink:href=\"#DejaVuSans-73\"/>\r\n      <use x=\"452.826172\" xlink:href=\"#DejaVuSans-69\"/>\r\n      <use x=\"480.609375\" xlink:href=\"#DejaVuSans-74\"/>\r\n      <use x=\"519.818359\" xlink:href=\"#DejaVuSans-69\"/>\r\n      <use x=\"547.601562\" xlink:href=\"#DejaVuSans-76\"/>\r\n      <use x=\"606.78125\" xlink:href=\"#DejaVuSans-65\"/>\r\n      <use x=\"668.304688\" xlink:href=\"#DejaVuSans-20\"/>\r\n      <use x=\"700.091797\" xlink:href=\"#DejaVuSans-52\"/>\r\n      <use x=\"767.324219\" xlink:href=\"#DejaVuSans-61\"/>\r\n      <use x=\"828.603516\" xlink:href=\"#DejaVuSans-74\"/>\r\n      <use x=\"867.8125\" xlink:href=\"#DejaVuSans-65\"/>\r\n     </g>\r\n    </g>\r\n   </g>\r\n   <g id=\"matplotlib.axis_2\">\r\n    <g id=\"ytick_1\">\r\n     <g id=\"line2d_7\">\r\n      <defs>\r\n       <path d=\"M 0 0 \r\nL -3.5 0 \r\n\" id=\"m725d5b1c28\" style=\"stroke:#000000;stroke-width:0.8;\"/>\r\n      </defs>\r\n      <g>\r\n       <use style=\"stroke:#000000;stroke-width:0.8;\" x=\"43.78125\" xlink:href=\"#m725d5b1c28\" y=\"239.758125\"/>\r\n      </g>\r\n     </g>\r\n     <g id=\"text_8\">\r\n      <!-- 0.0 -->\r\n      <g transform=\"translate(20.878125 243.557344)scale(0.1 -0.1)\">\r\n       <use xlink:href=\"#DejaVuSans-30\"/>\r\n       <use x=\"63.623047\" xlink:href=\"#DejaVuSans-2e\"/>\r\n       <use x=\"95.410156\" xlink:href=\"#DejaVuSans-30\"/>\r\n      </g>\r\n     </g>\r\n    </g>\r\n    <g id=\"ytick_2\">\r\n     <g id=\"line2d_8\">\r\n      <g>\r\n       <use style=\"stroke:#000000;stroke-width:0.8;\" x=\"43.78125\" xlink:href=\"#m725d5b1c28\" y=\"198.340982\"/>\r\n      </g>\r\n     </g>\r\n     <g id=\"text_9\">\r\n      <!-- 0.2 -->\r\n      <g transform=\"translate(20.878125 202.140201)scale(0.1 -0.1)\">\r\n       <use xlink:href=\"#DejaVuSans-30\"/>\r\n       <use x=\"63.623047\" xlink:href=\"#DejaVuSans-2e\"/>\r\n       <use x=\"95.410156\" xlink:href=\"#DejaVuSans-32\"/>\r\n      </g>\r\n     </g>\r\n    </g>\r\n    <g id=\"ytick_3\">\r\n     <g id=\"line2d_9\">\r\n      <g>\r\n       <use style=\"stroke:#000000;stroke-width:0.8;\" x=\"43.78125\" xlink:href=\"#m725d5b1c28\" y=\"156.923839\"/>\r\n      </g>\r\n     </g>\r\n     <g id=\"text_10\">\r\n      <!-- 0.4 -->\r\n      <g transform=\"translate(20.878125 160.723058)scale(0.1 -0.1)\">\r\n       <use xlink:href=\"#DejaVuSans-30\"/>\r\n       <use x=\"63.623047\" xlink:href=\"#DejaVuSans-2e\"/>\r\n       <use x=\"95.410156\" xlink:href=\"#DejaVuSans-34\"/>\r\n      </g>\r\n     </g>\r\n    </g>\r\n    <g id=\"ytick_4\">\r\n     <g id=\"line2d_10\">\r\n      <g>\r\n       <use style=\"stroke:#000000;stroke-width:0.8;\" x=\"43.78125\" xlink:href=\"#m725d5b1c28\" y=\"115.506696\"/>\r\n      </g>\r\n     </g>\r\n     <g id=\"text_11\">\r\n      <!-- 0.6 -->\r\n      <g transform=\"translate(20.878125 119.305915)scale(0.1 -0.1)\">\r\n       <use xlink:href=\"#DejaVuSans-30\"/>\r\n       <use x=\"63.623047\" xlink:href=\"#DejaVuSans-2e\"/>\r\n       <use x=\"95.410156\" xlink:href=\"#DejaVuSans-36\"/>\r\n      </g>\r\n     </g>\r\n    </g>\r\n    <g id=\"ytick_5\">\r\n     <g id=\"line2d_11\">\r\n      <g>\r\n       <use style=\"stroke:#000000;stroke-width:0.8;\" x=\"43.78125\" xlink:href=\"#m725d5b1c28\" y=\"74.089554\"/>\r\n      </g>\r\n     </g>\r\n     <g id=\"text_12\">\r\n      <!-- 0.8 -->\r\n      <g transform=\"translate(20.878125 77.888772)scale(0.1 -0.1)\">\r\n       <use xlink:href=\"#DejaVuSans-30\"/>\r\n       <use x=\"63.623047\" xlink:href=\"#DejaVuSans-2e\"/>\r\n       <use x=\"95.410156\" xlink:href=\"#DejaVuSans-38\"/>\r\n      </g>\r\n     </g>\r\n    </g>\r\n    <g id=\"ytick_6\">\r\n     <g id=\"line2d_12\">\r\n      <g>\r\n       <use style=\"stroke:#000000;stroke-width:0.8;\" x=\"43.78125\" xlink:href=\"#m725d5b1c28\" y=\"32.672411\"/>\r\n      </g>\r\n     </g>\r\n     <g id=\"text_13\">\r\n      <!-- 1.0 -->\r\n      <g transform=\"translate(20.878125 36.471629)scale(0.1 -0.1)\">\r\n       <use xlink:href=\"#DejaVuSans-31\"/>\r\n       <use x=\"63.623047\" xlink:href=\"#DejaVuSans-2e\"/>\r\n       <use x=\"95.410156\" xlink:href=\"#DejaVuSans-30\"/>\r\n      </g>\r\n     </g>\r\n    </g>\r\n    <g id=\"text_14\">\r\n     <!-- True Positive Rate -->\r\n     <g transform=\"translate(14.798438 175.567812)rotate(-90)scale(0.1 -0.1)\">\r\n      <defs>\r\n       <path d=\"M -19 4666 \r\nL 3928 4666 \r\nL 3928 4134 \r\nL 2272 4134 \r\nL 2272 0 \r\nL 1638 0 \r\nL 1638 4134 \r\nL -19 4134 \r\nL -19 4666 \r\nz\r\n\" id=\"DejaVuSans-54\" transform=\"scale(0.015625)\"/>\r\n       <path d=\"M 2631 2963 \r\nQ 2534 3019 2420 3045 \r\nQ 2306 3072 2169 3072 \r\nQ 1681 3072 1420 2755 \r\nQ 1159 2438 1159 1844 \r\nL 1159 0 \r\nL 581 0 \r\nL 581 3500 \r\nL 1159 3500 \r\nL 1159 2956 \r\nQ 1341 3275 1631 3429 \r\nQ 1922 3584 2338 3584 \r\nQ 2397 3584 2469 3576 \r\nQ 2541 3569 2628 3553 \r\nL 2631 2963 \r\nz\r\n\" id=\"DejaVuSans-72\" transform=\"scale(0.015625)\"/>\r\n       <path d=\"M 544 1381 \r\nL 544 3500 \r\nL 1119 3500 \r\nL 1119 1403 \r\nQ 1119 906 1312 657 \r\nQ 1506 409 1894 409 \r\nQ 2359 409 2629 706 \r\nQ 2900 1003 2900 1516 \r\nL 2900 3500 \r\nL 3475 3500 \r\nL 3475 0 \r\nL 2900 0 \r\nL 2900 538 \r\nQ 2691 219 2414 64 \r\nQ 2138 -91 1772 -91 \r\nQ 1169 -91 856 284 \r\nQ 544 659 544 1381 \r\nz\r\nM 1991 3584 \r\nL 1991 3584 \r\nz\r\n\" id=\"DejaVuSans-75\" transform=\"scale(0.015625)\"/>\r\n      </defs>\r\n      <use xlink:href=\"#DejaVuSans-54\"/>\r\n      <use x=\"46.333984\" xlink:href=\"#DejaVuSans-72\"/>\r\n      <use x=\"87.447266\" xlink:href=\"#DejaVuSans-75\"/>\r\n      <use x=\"150.826172\" xlink:href=\"#DejaVuSans-65\"/>\r\n      <use x=\"212.349609\" xlink:href=\"#DejaVuSans-20\"/>\r\n      <use x=\"244.136719\" xlink:href=\"#DejaVuSans-50\"/>\r\n      <use x=\"300.814453\" xlink:href=\"#DejaVuSans-6f\"/>\r\n      <use x=\"361.996094\" xlink:href=\"#DejaVuSans-73\"/>\r\n      <use x=\"414.095703\" xlink:href=\"#DejaVuSans-69\"/>\r\n      <use x=\"441.878906\" xlink:href=\"#DejaVuSans-74\"/>\r\n      <use x=\"481.087891\" xlink:href=\"#DejaVuSans-69\"/>\r\n      <use x=\"508.871094\" xlink:href=\"#DejaVuSans-76\"/>\r\n      <use x=\"568.050781\" xlink:href=\"#DejaVuSans-65\"/>\r\n      <use x=\"629.574219\" xlink:href=\"#DejaVuSans-20\"/>\r\n      <use x=\"661.361328\" xlink:href=\"#DejaVuSans-52\"/>\r\n      <use x=\"728.59375\" xlink:href=\"#DejaVuSans-61\"/>\r\n      <use x=\"789.873047\" xlink:href=\"#DejaVuSans-74\"/>\r\n      <use x=\"829.082031\" xlink:href=\"#DejaVuSans-65\"/>\r\n     </g>\r\n    </g>\r\n   </g>\r\n   <g id=\"line2d_13\">\r\n    <path clip-path=\"url(#p0d60cebdd6)\" d=\"M 43.78125 239.758125 \r\nL 146.289003 81.27416 \r\nL 378.58125 32.672411 \r\n\" style=\"fill:none;stroke:#ff8c00;stroke-linecap:square;stroke-width:2;\"/>\r\n   </g>\r\n   <g id=\"line2d_14\">\r\n    <path clip-path=\"url(#p0d60cebdd6)\" d=\"M 43.78125 239.758125 \r\nL 378.58125 32.672411 \r\n\" style=\"fill:none;stroke:#000080;stroke-dasharray:7.4,3.2;stroke-dashoffset:0;stroke-width:2;\"/>\r\n   </g>\r\n   <g id=\"patch_3\">\r\n    <path d=\"M 43.78125 239.758125 \r\nL 43.78125 22.318125 \r\n\" style=\"fill:none;stroke:#000000;stroke-linecap:square;stroke-linejoin:miter;stroke-width:0.8;\"/>\r\n   </g>\r\n   <g id=\"patch_4\">\r\n    <path d=\"M 378.58125 239.758125 \r\nL 378.58125 22.318125 \r\n\" style=\"fill:none;stroke:#000000;stroke-linecap:square;stroke-linejoin:miter;stroke-width:0.8;\"/>\r\n   </g>\r\n   <g id=\"patch_5\">\r\n    <path d=\"M 43.78125 239.758125 \r\nL 378.58125 239.758125 \r\n\" style=\"fill:none;stroke:#000000;stroke-linecap:square;stroke-linejoin:miter;stroke-width:0.8;\"/>\r\n   </g>\r\n   <g id=\"patch_6\">\r\n    <path d=\"M 43.78125 22.318125 \r\nL 378.58125 22.318125 \r\n\" style=\"fill:none;stroke:#000000;stroke-linecap:square;stroke-linejoin:miter;stroke-width:0.8;\"/>\r\n   </g>\r\n   <g id=\"text_15\">\r\n    <!-- Receiver operating characteristic curve -->\r\n    <g transform=\"translate(92.9025 16.318125)scale(0.12 -0.12)\">\r\n     <defs>\r\n      <path d=\"M 3122 3366 \r\nL 3122 2828 \r\nQ 2878 2963 2633 3030 \r\nQ 2388 3097 2138 3097 \r\nQ 1578 3097 1268 2742 \r\nQ 959 2388 959 1747 \r\nQ 959 1106 1268 751 \r\nQ 1578 397 2138 397 \r\nQ 2388 397 2633 464 \r\nQ 2878 531 3122 666 \r\nL 3122 134 \r\nQ 2881 22 2623 -34 \r\nQ 2366 -91 2075 -91 \r\nQ 1284 -91 818 406 \r\nQ 353 903 353 1747 \r\nQ 353 2603 823 3093 \r\nQ 1294 3584 2113 3584 \r\nQ 2378 3584 2631 3529 \r\nQ 2884 3475 3122 3366 \r\nz\r\n\" id=\"DejaVuSans-63\" transform=\"scale(0.015625)\"/>\r\n      <path d=\"M 1159 525 \r\nL 1159 -1331 \r\nL 581 -1331 \r\nL 581 3500 \r\nL 1159 3500 \r\nL 1159 2969 \r\nQ 1341 3281 1617 3432 \r\nQ 1894 3584 2278 3584 \r\nQ 2916 3584 3314 3078 \r\nQ 3713 2572 3713 1747 \r\nQ 3713 922 3314 415 \r\nQ 2916 -91 2278 -91 \r\nQ 1894 -91 1617 61 \r\nQ 1341 213 1159 525 \r\nz\r\nM 3116 1747 \r\nQ 3116 2381 2855 2742 \r\nQ 2594 3103 2138 3103 \r\nQ 1681 3103 1420 2742 \r\nQ 1159 2381 1159 1747 \r\nQ 1159 1113 1420 752 \r\nQ 1681 391 2138 391 \r\nQ 2594 391 2855 752 \r\nQ 3116 1113 3116 1747 \r\nz\r\n\" id=\"DejaVuSans-70\" transform=\"scale(0.015625)\"/>\r\n      <path d=\"M 3513 2113 \r\nL 3513 0 \r\nL 2938 0 \r\nL 2938 2094 \r\nQ 2938 2591 2744 2837 \r\nQ 2550 3084 2163 3084 \r\nQ 1697 3084 1428 2787 \r\nQ 1159 2491 1159 1978 \r\nL 1159 0 \r\nL 581 0 \r\nL 581 3500 \r\nL 1159 3500 \r\nL 1159 2956 \r\nQ 1366 3272 1645 3428 \r\nQ 1925 3584 2291 3584 \r\nQ 2894 3584 3203 3211 \r\nQ 3513 2838 3513 2113 \r\nz\r\n\" id=\"DejaVuSans-6e\" transform=\"scale(0.015625)\"/>\r\n      <path d=\"M 2906 1791 \r\nQ 2906 2416 2648 2759 \r\nQ 2391 3103 1925 3103 \r\nQ 1463 3103 1205 2759 \r\nQ 947 2416 947 1791 \r\nQ 947 1169 1205 825 \r\nQ 1463 481 1925 481 \r\nQ 2391 481 2648 825 \r\nQ 2906 1169 2906 1791 \r\nz\r\nM 3481 434 \r\nQ 3481 -459 3084 -895 \r\nQ 2688 -1331 1869 -1331 \r\nQ 1566 -1331 1297 -1286 \r\nQ 1028 -1241 775 -1147 \r\nL 775 -588 \r\nQ 1028 -725 1275 -790 \r\nQ 1522 -856 1778 -856 \r\nQ 2344 -856 2625 -561 \r\nQ 2906 -266 2906 331 \r\nL 2906 616 \r\nQ 2728 306 2450 153 \r\nQ 2172 0 1784 0 \r\nQ 1141 0 747 490 \r\nQ 353 981 353 1791 \r\nQ 353 2603 747 3093 \r\nQ 1141 3584 1784 3584 \r\nQ 2172 3584 2450 3431 \r\nQ 2728 3278 2906 2969 \r\nL 2906 3500 \r\nL 3481 3500 \r\nL 3481 434 \r\nz\r\n\" id=\"DejaVuSans-67\" transform=\"scale(0.015625)\"/>\r\n      <path d=\"M 3513 2113 \r\nL 3513 0 \r\nL 2938 0 \r\nL 2938 2094 \r\nQ 2938 2591 2744 2837 \r\nQ 2550 3084 2163 3084 \r\nQ 1697 3084 1428 2787 \r\nQ 1159 2491 1159 1978 \r\nL 1159 0 \r\nL 581 0 \r\nL 581 4863 \r\nL 1159 4863 \r\nL 1159 2956 \r\nQ 1366 3272 1645 3428 \r\nQ 1925 3584 2291 3584 \r\nQ 2894 3584 3203 3211 \r\nQ 3513 2838 3513 2113 \r\nz\r\n\" id=\"DejaVuSans-68\" transform=\"scale(0.015625)\"/>\r\n     </defs>\r\n     <use xlink:href=\"#DejaVuSans-52\"/>\r\n     <use x=\"64.982422\" xlink:href=\"#DejaVuSans-65\"/>\r\n     <use x=\"126.505859\" xlink:href=\"#DejaVuSans-63\"/>\r\n     <use x=\"181.486328\" xlink:href=\"#DejaVuSans-65\"/>\r\n     <use x=\"243.009766\" xlink:href=\"#DejaVuSans-69\"/>\r\n     <use x=\"270.792969\" xlink:href=\"#DejaVuSans-76\"/>\r\n     <use x=\"329.972656\" xlink:href=\"#DejaVuSans-65\"/>\r\n     <use x=\"391.496094\" xlink:href=\"#DejaVuSans-72\"/>\r\n     <use x=\"432.609375\" xlink:href=\"#DejaVuSans-20\"/>\r\n     <use x=\"464.396484\" xlink:href=\"#DejaVuSans-6f\"/>\r\n     <use x=\"525.578125\" xlink:href=\"#DejaVuSans-70\"/>\r\n     <use x=\"589.054688\" xlink:href=\"#DejaVuSans-65\"/>\r\n     <use x=\"650.578125\" xlink:href=\"#DejaVuSans-72\"/>\r\n     <use x=\"691.691406\" xlink:href=\"#DejaVuSans-61\"/>\r\n     <use x=\"752.970703\" xlink:href=\"#DejaVuSans-74\"/>\r\n     <use x=\"792.179688\" xlink:href=\"#DejaVuSans-69\"/>\r\n     <use x=\"819.962891\" xlink:href=\"#DejaVuSans-6e\"/>\r\n     <use x=\"883.341797\" xlink:href=\"#DejaVuSans-67\"/>\r\n     <use x=\"946.818359\" xlink:href=\"#DejaVuSans-20\"/>\r\n     <use x=\"978.605469\" xlink:href=\"#DejaVuSans-63\"/>\r\n     <use x=\"1033.585938\" xlink:href=\"#DejaVuSans-68\"/>\r\n     <use x=\"1096.964844\" xlink:href=\"#DejaVuSans-61\"/>\r\n     <use x=\"1158.244141\" xlink:href=\"#DejaVuSans-72\"/>\r\n     <use x=\"1199.357422\" xlink:href=\"#DejaVuSans-61\"/>\r\n     <use x=\"1260.636719\" xlink:href=\"#DejaVuSans-63\"/>\r\n     <use x=\"1315.617188\" xlink:href=\"#DejaVuSans-74\"/>\r\n     <use x=\"1354.826172\" xlink:href=\"#DejaVuSans-65\"/>\r\n     <use x=\"1416.349609\" xlink:href=\"#DejaVuSans-72\"/>\r\n     <use x=\"1457.462891\" xlink:href=\"#DejaVuSans-69\"/>\r\n     <use x=\"1485.246094\" xlink:href=\"#DejaVuSans-73\"/>\r\n     <use x=\"1537.345703\" xlink:href=\"#DejaVuSans-74\"/>\r\n     <use x=\"1576.554688\" xlink:href=\"#DejaVuSans-69\"/>\r\n     <use x=\"1604.337891\" xlink:href=\"#DejaVuSans-63\"/>\r\n     <use x=\"1659.318359\" xlink:href=\"#DejaVuSans-20\"/>\r\n     <use x=\"1691.105469\" xlink:href=\"#DejaVuSans-63\"/>\r\n     <use x=\"1746.085938\" xlink:href=\"#DejaVuSans-75\"/>\r\n     <use x=\"1809.464844\" xlink:href=\"#DejaVuSans-72\"/>\r\n     <use x=\"1850.578125\" xlink:href=\"#DejaVuSans-76\"/>\r\n     <use x=\"1909.757812\" xlink:href=\"#DejaVuSans-65\"/>\r\n    </g>\r\n   </g>\r\n   <g id=\"legend_1\">\r\n    <g id=\"patch_7\">\r\n     <path d=\"M 216.303125 234.758125 \r\nL 371.58125 234.758125 \r\nQ 373.58125 234.758125 373.58125 232.758125 \r\nL 373.58125 219.08 \r\nQ 373.58125 217.08 371.58125 217.08 \r\nL 216.303125 217.08 \r\nQ 214.303125 217.08 214.303125 219.08 \r\nL 214.303125 232.758125 \r\nQ 214.303125 234.758125 216.303125 234.758125 \r\nz\r\n\" style=\"fill:#ffffff;opacity:0.8;stroke:#cccccc;stroke-linejoin:miter;\"/>\r\n    </g>\r\n    <g id=\"line2d_15\">\r\n     <path d=\"M 218.303125 225.178437 \r\nL 238.303125 225.178437 \r\n\" style=\"fill:none;stroke:#ff8c00;stroke-linecap:square;stroke-width:2;\"/>\r\n    </g>\r\n    <g id=\"line2d_16\"/>\r\n    <g id=\"text_16\">\r\n     <!-- ROC curve (area = 0.73) -->\r\n     <g transform=\"translate(246.303125 228.678437)scale(0.1 -0.1)\">\r\n      <defs>\r\n       <path d=\"M 2522 4238 \r\nQ 1834 4238 1429 3725 \r\nQ 1025 3213 1025 2328 \r\nQ 1025 1447 1429 934 \r\nQ 1834 422 2522 422 \r\nQ 3209 422 3611 934 \r\nQ 4013 1447 4013 2328 \r\nQ 4013 3213 3611 3725 \r\nQ 3209 4238 2522 4238 \r\nz\r\nM 2522 4750 \r\nQ 3503 4750 4090 4092 \r\nQ 4678 3434 4678 2328 \r\nQ 4678 1225 4090 567 \r\nQ 3503 -91 2522 -91 \r\nQ 1538 -91 948 565 \r\nQ 359 1222 359 2328 \r\nQ 359 3434 948 4092 \r\nQ 1538 4750 2522 4750 \r\nz\r\n\" id=\"DejaVuSans-4f\" transform=\"scale(0.015625)\"/>\r\n       <path d=\"M 4122 4306 \r\nL 4122 3641 \r\nQ 3803 3938 3442 4084 \r\nQ 3081 4231 2675 4231 \r\nQ 1875 4231 1450 3742 \r\nQ 1025 3253 1025 2328 \r\nQ 1025 1406 1450 917 \r\nQ 1875 428 2675 428 \r\nQ 3081 428 3442 575 \r\nQ 3803 722 4122 1019 \r\nL 4122 359 \r\nQ 3791 134 3420 21 \r\nQ 3050 -91 2638 -91 \r\nQ 1578 -91 968 557 \r\nQ 359 1206 359 2328 \r\nQ 359 3453 968 4101 \r\nQ 1578 4750 2638 4750 \r\nQ 3056 4750 3426 4639 \r\nQ 3797 4528 4122 4306 \r\nz\r\n\" id=\"DejaVuSans-43\" transform=\"scale(0.015625)\"/>\r\n       <path d=\"M 1984 4856 \r\nQ 1566 4138 1362 3434 \r\nQ 1159 2731 1159 2009 \r\nQ 1159 1288 1364 580 \r\nQ 1569 -128 1984 -844 \r\nL 1484 -844 \r\nQ 1016 -109 783 600 \r\nQ 550 1309 550 2009 \r\nQ 550 2706 781 3412 \r\nQ 1013 4119 1484 4856 \r\nL 1984 4856 \r\nz\r\n\" id=\"DejaVuSans-28\" transform=\"scale(0.015625)\"/>\r\n       <path d=\"M 678 2906 \r\nL 4684 2906 \r\nL 4684 2381 \r\nL 678 2381 \r\nL 678 2906 \r\nz\r\nM 678 1631 \r\nL 4684 1631 \r\nL 4684 1100 \r\nL 678 1100 \r\nL 678 1631 \r\nz\r\n\" id=\"DejaVuSans-3d\" transform=\"scale(0.015625)\"/>\r\n       <path d=\"M 525 4666 \r\nL 3525 4666 \r\nL 3525 4397 \r\nL 1831 0 \r\nL 1172 0 \r\nL 2766 4134 \r\nL 525 4134 \r\nL 525 4666 \r\nz\r\n\" id=\"DejaVuSans-37\" transform=\"scale(0.015625)\"/>\r\n       <path d=\"M 2597 2516 \r\nQ 3050 2419 3304 2112 \r\nQ 3559 1806 3559 1356 \r\nQ 3559 666 3084 287 \r\nQ 2609 -91 1734 -91 \r\nQ 1441 -91 1130 -33 \r\nQ 819 25 488 141 \r\nL 488 750 \r\nQ 750 597 1062 519 \r\nQ 1375 441 1716 441 \r\nQ 2309 441 2620 675 \r\nQ 2931 909 2931 1356 \r\nQ 2931 1769 2642 2001 \r\nQ 2353 2234 1838 2234 \r\nL 1294 2234 \r\nL 1294 2753 \r\nL 1863 2753 \r\nQ 2328 2753 2575 2939 \r\nQ 2822 3125 2822 3475 \r\nQ 2822 3834 2567 4026 \r\nQ 2313 4219 1838 4219 \r\nQ 1578 4219 1281 4162 \r\nQ 984 4106 628 3988 \r\nL 628 4550 \r\nQ 988 4650 1302 4700 \r\nQ 1616 4750 1894 4750 \r\nQ 2613 4750 3031 4423 \r\nQ 3450 4097 3450 3541 \r\nQ 3450 3153 3228 2886 \r\nQ 3006 2619 2597 2516 \r\nz\r\n\" id=\"DejaVuSans-33\" transform=\"scale(0.015625)\"/>\r\n       <path d=\"M 513 4856 \r\nL 1013 4856 \r\nQ 1481 4119 1714 3412 \r\nQ 1947 2706 1947 2009 \r\nQ 1947 1309 1714 600 \r\nQ 1481 -109 1013 -844 \r\nL 513 -844 \r\nQ 928 -128 1133 580 \r\nQ 1338 1288 1338 2009 \r\nQ 1338 2731 1133 3434 \r\nQ 928 4138 513 4856 \r\nz\r\n\" id=\"DejaVuSans-29\" transform=\"scale(0.015625)\"/>\r\n      </defs>\r\n      <use xlink:href=\"#DejaVuSans-52\"/>\r\n      <use x=\"69.482422\" xlink:href=\"#DejaVuSans-4f\"/>\r\n      <use x=\"148.193359\" xlink:href=\"#DejaVuSans-43\"/>\r\n      <use x=\"218.017578\" xlink:href=\"#DejaVuSans-20\"/>\r\n      <use x=\"249.804688\" xlink:href=\"#DejaVuSans-63\"/>\r\n      <use x=\"304.785156\" xlink:href=\"#DejaVuSans-75\"/>\r\n      <use x=\"368.164062\" xlink:href=\"#DejaVuSans-72\"/>\r\n      <use x=\"409.277344\" xlink:href=\"#DejaVuSans-76\"/>\r\n      <use x=\"468.457031\" xlink:href=\"#DejaVuSans-65\"/>\r\n      <use x=\"529.980469\" xlink:href=\"#DejaVuSans-20\"/>\r\n      <use x=\"561.767578\" xlink:href=\"#DejaVuSans-28\"/>\r\n      <use x=\"600.78125\" xlink:href=\"#DejaVuSans-61\"/>\r\n      <use x=\"662.060547\" xlink:href=\"#DejaVuSans-72\"/>\r\n      <use x=\"700.923828\" xlink:href=\"#DejaVuSans-65\"/>\r\n      <use x=\"762.447266\" xlink:href=\"#DejaVuSans-61\"/>\r\n      <use x=\"823.726562\" xlink:href=\"#DejaVuSans-20\"/>\r\n      <use x=\"855.513672\" xlink:href=\"#DejaVuSans-3d\"/>\r\n      <use x=\"939.302734\" xlink:href=\"#DejaVuSans-20\"/>\r\n      <use x=\"971.089844\" xlink:href=\"#DejaVuSans-30\"/>\r\n      <use x=\"1034.712891\" xlink:href=\"#DejaVuSans-2e\"/>\r\n      <use x=\"1066.5\" xlink:href=\"#DejaVuSans-37\"/>\r\n      <use x=\"1130.123047\" xlink:href=\"#DejaVuSans-33\"/>\r\n      <use x=\"1193.746094\" xlink:href=\"#DejaVuSans-29\"/>\r\n     </g>\r\n    </g>\r\n   </g>\r\n  </g>\r\n </g>\r\n <defs>\r\n  <clipPath id=\"p0d60cebdd6\">\r\n   <rect height=\"217.44\" width=\"334.8\" x=\"43.78125\" y=\"22.318125\"/>\r\n  </clipPath>\r\n </defs>\r\n</svg>\r\n",
      "image/png": "[encoded data removed]"
     },
     "metadata": {
      "needs_background": "light"
     }
    }
   ],
   "source": [
    "# Run this cell to plot the ROC curve\n",
    "plt.figure()\n",
    "plt.plot(fpr, tpr, color='darkorange',\n",
    "         lw=2, label='ROC curve (area = %0.2f)' % roc_auc)\n",
    "plt.plot([0, 1], [0, 1], color='navy', lw=2, linestyle='--')\n",
    "plt.xlim([0.0, 1.0])\n",
    "plt.ylim([0.0, 1.05])\n",
    "plt.xlabel('False Positive Rate')\n",
    "plt.ylabel('True Positive Rate')\n",
    "plt.title('Receiver operating characteristic curve')\n",
    "plt.legend(loc=\"lower right\")\n",
    "plt.show()"
   ]
  },
  {
   "cell_type": "markdown",
   "metadata": {},
   "source": [
    "Congratulations! You have built a basic classication model. Complete the lesson quiz and proceed to the next lesson."
   ]
  }
 ],
 "metadata": {
  "kernelspec": {
   "name": "python383jvsc74a57bd0821ed89d40833114557fa9506fa74e8e348a324e22d9cd4f19b42fa0fd4257a1",
   "display_name": "Python 3.8.3 64-bit"
  },
  "language_info": {
   "codemirror_mode": {
    "name": "ipython",
    "version": 3
   },
   "file_extension": ".py",
   "mimetype": "text/x-python",
   "name": "python",
   "nbconvert_exporter": "python",
   "pygments_lexer": "ipython3",
   "version": "3.8.3"
  }
 },
 "nbformat": 4,
 "nbformat_minor": 4
}