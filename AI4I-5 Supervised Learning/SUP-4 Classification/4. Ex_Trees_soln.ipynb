{
 "cells": [
  {
   "cell_type": "markdown",
   "metadata": {},
   "source": [
    "# Classification 2\n",
    "\n",
    "## Exercise 4: Classification using Decision Trees"
   ]
  },
  {
   "cell_type": "markdown",
   "metadata": {},
   "source": [
    "### Overview\n",
    "\n",
    "The objective of this exercise is to build models using Decision Tree and Random Forest for our telco churn data. This notebook is built by modifying the solution from Exercise 2 (KNN Classification model).\n",
    "\n",
    "### Library Imports"
   ]
  },
  {
   "cell_type": "code",
   "execution_count": 1,
   "metadata": {},
   "outputs": [],
   "source": [
    "# Basic Library Imports\n",
    "import numpy as np\n",
    "import pandas as pd\n",
    "import matplotlib.pyplot as plt\n",
    "import seaborn as sn\n",
    "%matplotlib inline"
   ]
  },
  {
   "cell_type": "code",
   "execution_count": 2,
   "metadata": {},
   "outputs": [],
   "source": [
    "# TASK: Import the relevant Scikit-learn functions and Classes as required. You may have to keep modifying this cell as you discover more\n",
    "from sklearn.compose import ColumnTransformer, make_column_transformer\n",
    "from sklearn.pipeline import Pipeline, make_pipeline\n",
    "from sklearn.preprocessing import StandardScaler, OneHotEncoder\n",
    "from sklearn.model_selection import train_test_split, GridSearchCV\n",
    "from sklearn.tree import DecisionTreeClassifier\n",
    "from sklearn.ensemble import RandomForestClassifier\n",
    "from sklearn.metrics import confusion_matrix, precision_score, recall_score, accuracy_score, f1_score, classification_report, roc_curve, auc, make_scorer"
   ]
  },
  {
   "cell_type": "markdown",
   "metadata": {},
   "source": [
    "## Data Ingestion"
   ]
  },
  {
   "cell_type": "code",
   "execution_count": 3,
   "metadata": {},
   "outputs": [],
   "source": [
    "# TASK: Read in the CSV file saved from Exercise 1\n",
    "file_path = \"telco_churn.csv\"\n",
    "# The 1st column of the csv file should be the customer ID, which is loaded in the the Dataframe's index\n",
    "input_data = pd.read_csv(file_path, index_col=0)"
   ]
  },
  {
   "cell_type": "code",
   "execution_count": 4,
   "metadata": {},
   "outputs": [
    {
     "data": {
      "text/html": [
       "<div>\n",
       "<style scoped>\n",
       "    .dataframe tbody tr th:only-of-type {\n",
       "        vertical-align: middle;\n",
       "    }\n",
       "\n",
       "    .dataframe tbody tr th {\n",
       "        vertical-align: top;\n",
       "    }\n",
       "\n",
       "    .dataframe thead th {\n",
       "        text-align: right;\n",
       "    }\n",
       "</style>\n",
       "<table border=\"1\" class=\"dataframe\">\n",
       "  <thead>\n",
       "    <tr style=\"text-align: right;\">\n",
       "      <th></th>\n",
       "      <th>Gender</th>\n",
       "      <th>SeniorCitizen</th>\n",
       "      <th>Partner</th>\n",
       "      <th>Dependents</th>\n",
       "      <th>TenureMonths</th>\n",
       "      <th>PhoneService</th>\n",
       "      <th>MultipleLines</th>\n",
       "      <th>InternetService</th>\n",
       "      <th>OnlineSecurity</th>\n",
       "      <th>OnlineBackup</th>\n",
       "      <th>DeviceProtection</th>\n",
       "      <th>TechSupport</th>\n",
       "      <th>StreamingTV</th>\n",
       "      <th>StreamingMovies</th>\n",
       "      <th>Contract</th>\n",
       "      <th>PaperlessBilling</th>\n",
       "      <th>PaymentMethod</th>\n",
       "      <th>MonthlyCharges</th>\n",
       "      <th>TotalCharges</th>\n",
       "      <th>ChurnLabel</th>\n",
       "    </tr>\n",
       "    <tr>\n",
       "      <th>CustomerID</th>\n",
       "      <th></th>\n",
       "      <th></th>\n",
       "      <th></th>\n",
       "      <th></th>\n",
       "      <th></th>\n",
       "      <th></th>\n",
       "      <th></th>\n",
       "      <th></th>\n",
       "      <th></th>\n",
       "      <th></th>\n",
       "      <th></th>\n",
       "      <th></th>\n",
       "      <th></th>\n",
       "      <th></th>\n",
       "      <th></th>\n",
       "      <th></th>\n",
       "      <th></th>\n",
       "      <th></th>\n",
       "      <th></th>\n",
       "      <th></th>\n",
       "    </tr>\n",
       "  </thead>\n",
       "  <tbody>\n",
       "    <tr>\n",
       "      <th>3668-QPYBK</th>\n",
       "      <td>Male</td>\n",
       "      <td>No</td>\n",
       "      <td>No</td>\n",
       "      <td>No</td>\n",
       "      <td>2</td>\n",
       "      <td>Yes</td>\n",
       "      <td>No</td>\n",
       "      <td>DSL</td>\n",
       "      <td>Yes</td>\n",
       "      <td>Yes</td>\n",
       "      <td>No</td>\n",
       "      <td>No</td>\n",
       "      <td>No</td>\n",
       "      <td>No</td>\n",
       "      <td>M2M</td>\n",
       "      <td>Yes</td>\n",
       "      <td>mcheck</td>\n",
       "      <td>53.85</td>\n",
       "      <td>108.15</td>\n",
       "      <td>Yes</td>\n",
       "    </tr>\n",
       "    <tr>\n",
       "      <th>9237-HQITU</th>\n",
       "      <td>Female</td>\n",
       "      <td>No</td>\n",
       "      <td>No</td>\n",
       "      <td>Yes</td>\n",
       "      <td>2</td>\n",
       "      <td>Yes</td>\n",
       "      <td>No</td>\n",
       "      <td>FiberOptic</td>\n",
       "      <td>No</td>\n",
       "      <td>No</td>\n",
       "      <td>No</td>\n",
       "      <td>No</td>\n",
       "      <td>No</td>\n",
       "      <td>No</td>\n",
       "      <td>M2M</td>\n",
       "      <td>Yes</td>\n",
       "      <td>echeck</td>\n",
       "      <td>70.70</td>\n",
       "      <td>151.65</td>\n",
       "      <td>Yes</td>\n",
       "    </tr>\n",
       "    <tr>\n",
       "      <th>9305-CDSKC</th>\n",
       "      <td>Female</td>\n",
       "      <td>No</td>\n",
       "      <td>No</td>\n",
       "      <td>Yes</td>\n",
       "      <td>8</td>\n",
       "      <td>Yes</td>\n",
       "      <td>Yes</td>\n",
       "      <td>FiberOptic</td>\n",
       "      <td>No</td>\n",
       "      <td>No</td>\n",
       "      <td>Yes</td>\n",
       "      <td>No</td>\n",
       "      <td>Yes</td>\n",
       "      <td>Yes</td>\n",
       "      <td>M2M</td>\n",
       "      <td>Yes</td>\n",
       "      <td>echeck</td>\n",
       "      <td>99.65</td>\n",
       "      <td>820.50</td>\n",
       "      <td>Yes</td>\n",
       "    </tr>\n",
       "    <tr>\n",
       "      <th>7892-POOKP</th>\n",
       "      <td>Female</td>\n",
       "      <td>No</td>\n",
       "      <td>Yes</td>\n",
       "      <td>Yes</td>\n",
       "      <td>28</td>\n",
       "      <td>Yes</td>\n",
       "      <td>Yes</td>\n",
       "      <td>FiberOptic</td>\n",
       "      <td>No</td>\n",
       "      <td>No</td>\n",
       "      <td>Yes</td>\n",
       "      <td>Yes</td>\n",
       "      <td>Yes</td>\n",
       "      <td>Yes</td>\n",
       "      <td>M2M</td>\n",
       "      <td>Yes</td>\n",
       "      <td>echeck</td>\n",
       "      <td>104.80</td>\n",
       "      <td>3046.05</td>\n",
       "      <td>Yes</td>\n",
       "    </tr>\n",
       "    <tr>\n",
       "      <th>0280-XJGEX</th>\n",
       "      <td>Male</td>\n",
       "      <td>No</td>\n",
       "      <td>No</td>\n",
       "      <td>Yes</td>\n",
       "      <td>49</td>\n",
       "      <td>Yes</td>\n",
       "      <td>Yes</td>\n",
       "      <td>FiberOptic</td>\n",
       "      <td>No</td>\n",
       "      <td>Yes</td>\n",
       "      <td>Yes</td>\n",
       "      <td>No</td>\n",
       "      <td>Yes</td>\n",
       "      <td>Yes</td>\n",
       "      <td>M2M</td>\n",
       "      <td>Yes</td>\n",
       "      <td>transfer</td>\n",
       "      <td>103.70</td>\n",
       "      <td>5036.30</td>\n",
       "      <td>Yes</td>\n",
       "    </tr>\n",
       "  </tbody>\n",
       "</table>\n",
       "</div>"
      ],
      "text/plain": [
       "            Gender SeniorCitizen Partner Dependents  TenureMonths  \\\n",
       "CustomerID                                                          \n",
       "3668-QPYBK    Male            No      No         No             2   \n",
       "9237-HQITU  Female            No      No        Yes             2   \n",
       "9305-CDSKC  Female            No      No        Yes             8   \n",
       "7892-POOKP  Female            No     Yes        Yes            28   \n",
       "0280-XJGEX    Male            No      No        Yes            49   \n",
       "\n",
       "           PhoneService MultipleLines InternetService OnlineSecurity  \\\n",
       "CustomerID                                                             \n",
       "3668-QPYBK          Yes            No             DSL            Yes   \n",
       "9237-HQITU          Yes            No      FiberOptic             No   \n",
       "9305-CDSKC          Yes           Yes      FiberOptic             No   \n",
       "7892-POOKP          Yes           Yes      FiberOptic             No   \n",
       "0280-XJGEX          Yes           Yes      FiberOptic             No   \n",
       "\n",
       "           OnlineBackup DeviceProtection TechSupport StreamingTV  \\\n",
       "CustomerID                                                         \n",
       "3668-QPYBK          Yes               No          No          No   \n",
       "9237-HQITU           No               No          No          No   \n",
       "9305-CDSKC           No              Yes          No         Yes   \n",
       "7892-POOKP           No              Yes         Yes         Yes   \n",
       "0280-XJGEX          Yes              Yes          No         Yes   \n",
       "\n",
       "           StreamingMovies Contract PaperlessBilling PaymentMethod  \\\n",
       "CustomerID                                                           \n",
       "3668-QPYBK              No      M2M              Yes        mcheck   \n",
       "9237-HQITU              No      M2M              Yes        echeck   \n",
       "9305-CDSKC             Yes      M2M              Yes        echeck   \n",
       "7892-POOKP             Yes      M2M              Yes        echeck   \n",
       "0280-XJGEX             Yes      M2M              Yes      transfer   \n",
       "\n",
       "            MonthlyCharges  TotalCharges ChurnLabel  \n",
       "CustomerID                                           \n",
       "3668-QPYBK           53.85        108.15        Yes  \n",
       "9237-HQITU           70.70        151.65        Yes  \n",
       "9305-CDSKC           99.65        820.50        Yes  \n",
       "7892-POOKP          104.80       3046.05        Yes  \n",
       "0280-XJGEX          103.70       5036.30        Yes  "
      ]
     },
     "execution_count": 4,
     "metadata": {},
     "output_type": "execute_result"
    }
   ],
   "source": [
    "# Validate that data is as expected\n",
    "input_data.head()"
   ]
  },
  {
   "cell_type": "code",
   "execution_count": 5,
   "metadata": {},
   "outputs": [
    {
     "data": {
      "text/plain": [
       "(7032, 20)"
      ]
     },
     "execution_count": 5,
     "metadata": {},
     "output_type": "execute_result"
    }
   ],
   "source": [
    "# Size of data - TASK: Validate that it's (7032, 20)\n",
    "input_data.shape"
   ]
  },
  {
   "cell_type": "markdown",
   "metadata": {},
   "source": [
    "## Feature Engineering"
   ]
  },
  {
   "cell_type": "code",
   "execution_count": 6,
   "metadata": {},
   "outputs": [
    {
     "name": "stdout",
     "output_type": "stream",
     "text": [
      "Row count for each outcome\n",
      "0    5163\n",
      "1    1869\n",
      "Name: ChurnLabel, dtype: int64\n"
     ]
    }
   ],
   "source": [
    "# Outcome variable\n",
    "# Instead of keeping the values, we will encode as 1s and 0s using the map function\n",
    "output_var_name = 'ChurnLabel'\n",
    "output_var = input_data[output_var_name]\n",
    "output_var = output_var.map({'Yes': 1, 'No': 0})\n",
    "# Note that the map function can be run only once. You will get an error if you try to run it agian as Yes/No are no longer valid values in this feature.\n",
    "\n",
    "# Count the number of rows for each outcome value\n",
    "print(\"Row count for each outcome\")\n",
    "print(output_var.value_counts())\n",
    "\n",
    "# Remove the outcome variable from the main dataframe\n",
    "input_data.drop(output_var_name, axis=1, inplace=True)"
   ]
  },
  {
   "cell_type": "code",
   "execution_count": 7,
   "metadata": {},
   "outputs": [
    {
     "name": "stdout",
     "output_type": "stream",
     "text": [
      "['TenureMonths', 'MonthlyCharges', 'TotalCharges']\n"
     ]
    }
   ],
   "source": [
    "# Next, we want to define 3 lists for each of the data types found in our data i.e. Numerical, Categorical (more than 2 values), Binary (2 values only)\n",
    "\n",
    "# Numerical features\n",
    "num_features = [key for key in dict(input_data.dtypes) if dict(input_data.dtypes)[key] in ['int64', 'float64']]\n",
    "print(num_features) # TASK: Confirm the columns based on Exercise 1"
   ]
  },
  {
   "cell_type": "code",
   "execution_count": 8,
   "metadata": {},
   "outputs": [],
   "source": [
    "# TASK: Define the 4 categorical features as a list of strings. These are the non-numerical features that do not have Yes/No values\n",
    "cat_features = ['Gender', 'InternetService', 'Contract', 'PaymentMethod']"
   ]
  },
  {
   "cell_type": "code",
   "execution_count": 9,
   "metadata": {},
   "outputs": [
    {
     "name": "stdout",
     "output_type": "stream",
     "text": [
      "List of binary features: ['SeniorCitizen', 'Partner', 'Dependents', 'PhoneService', 'MultipleLines', 'OnlineSecurity', 'OnlineBackup', 'DeviceProtection', 'TechSupport', 'StreamingTV', 'StreamingMovies', 'PaperlessBilling']\n"
     ]
    }
   ],
   "source": [
    "# TASK: Define the binary features. Complete the steps denoted in this cell.\n",
    "# 1. Get the list of non-numerical features (both categorical and binary). Hint: Add 'not' to the code from num_features\n",
    "bin_features = [key for key in dict(input_data.dtypes) if dict(input_data.dtypes)[key] not in ['int64', 'float64']]\n",
    "\n",
    "# 2. Remove the cat feature names from this list\n",
    "for col in cat_features:\n",
    "    bin_features.remove(col)\n",
    "print(f\"List of binary features: {bin_features}\") # TASK: Confirm the resulting list"
   ]
  },
  {
   "cell_type": "code",
   "execution_count": 10,
   "metadata": {},
   "outputs": [],
   "source": [
    "# Encoding the binary features. Similar to the outcome variable, we will need to convert the values of these features from Yes/No to 1/0.\n",
    "# Note that alternatively this could have been done when building the pipeline.\n",
    "# TASK: Complete the code \n",
    "for col in bin_features:\n",
    "    input_data[col] = input_data[col].map({'Yes': 1, 'No': 0})"
   ]
  },
  {
   "cell_type": "code",
   "execution_count": 11,
   "metadata": {},
   "outputs": [
    {
     "data": {
      "text/html": [
       "<div>\n",
       "<style scoped>\n",
       "    .dataframe tbody tr th:only-of-type {\n",
       "        vertical-align: middle;\n",
       "    }\n",
       "\n",
       "    .dataframe tbody tr th {\n",
       "        vertical-align: top;\n",
       "    }\n",
       "\n",
       "    .dataframe thead th {\n",
       "        text-align: right;\n",
       "    }\n",
       "</style>\n",
       "<table border=\"1\" class=\"dataframe\">\n",
       "  <thead>\n",
       "    <tr style=\"text-align: right;\">\n",
       "      <th></th>\n",
       "      <th>Gender</th>\n",
       "      <th>SeniorCitizen</th>\n",
       "      <th>Partner</th>\n",
       "      <th>Dependents</th>\n",
       "      <th>TenureMonths</th>\n",
       "      <th>PhoneService</th>\n",
       "      <th>MultipleLines</th>\n",
       "      <th>InternetService</th>\n",
       "      <th>OnlineSecurity</th>\n",
       "      <th>OnlineBackup</th>\n",
       "      <th>DeviceProtection</th>\n",
       "      <th>TechSupport</th>\n",
       "      <th>StreamingTV</th>\n",
       "      <th>StreamingMovies</th>\n",
       "      <th>Contract</th>\n",
       "      <th>PaperlessBilling</th>\n",
       "      <th>PaymentMethod</th>\n",
       "      <th>MonthlyCharges</th>\n",
       "      <th>TotalCharges</th>\n",
       "    </tr>\n",
       "    <tr>\n",
       "      <th>CustomerID</th>\n",
       "      <th></th>\n",
       "      <th></th>\n",
       "      <th></th>\n",
       "      <th></th>\n",
       "      <th></th>\n",
       "      <th></th>\n",
       "      <th></th>\n",
       "      <th></th>\n",
       "      <th></th>\n",
       "      <th></th>\n",
       "      <th></th>\n",
       "      <th></th>\n",
       "      <th></th>\n",
       "      <th></th>\n",
       "      <th></th>\n",
       "      <th></th>\n",
       "      <th></th>\n",
       "      <th></th>\n",
       "      <th></th>\n",
       "    </tr>\n",
       "  </thead>\n",
       "  <tbody>\n",
       "    <tr>\n",
       "      <th>3668-QPYBK</th>\n",
       "      <td>Male</td>\n",
       "      <td>0</td>\n",
       "      <td>0</td>\n",
       "      <td>0</td>\n",
       "      <td>2</td>\n",
       "      <td>1</td>\n",
       "      <td>0</td>\n",
       "      <td>DSL</td>\n",
       "      <td>1</td>\n",
       "      <td>1</td>\n",
       "      <td>0</td>\n",
       "      <td>0</td>\n",
       "      <td>0</td>\n",
       "      <td>0</td>\n",
       "      <td>M2M</td>\n",
       "      <td>1</td>\n",
       "      <td>mcheck</td>\n",
       "      <td>53.85</td>\n",
       "      <td>108.15</td>\n",
       "    </tr>\n",
       "    <tr>\n",
       "      <th>9237-HQITU</th>\n",
       "      <td>Female</td>\n",
       "      <td>0</td>\n",
       "      <td>0</td>\n",
       "      <td>1</td>\n",
       "      <td>2</td>\n",
       "      <td>1</td>\n",
       "      <td>0</td>\n",
       "      <td>FiberOptic</td>\n",
       "      <td>0</td>\n",
       "      <td>0</td>\n",
       "      <td>0</td>\n",
       "      <td>0</td>\n",
       "      <td>0</td>\n",
       "      <td>0</td>\n",
       "      <td>M2M</td>\n",
       "      <td>1</td>\n",
       "      <td>echeck</td>\n",
       "      <td>70.70</td>\n",
       "      <td>151.65</td>\n",
       "    </tr>\n",
       "    <tr>\n",
       "      <th>9305-CDSKC</th>\n",
       "      <td>Female</td>\n",
       "      <td>0</td>\n",
       "      <td>0</td>\n",
       "      <td>1</td>\n",
       "      <td>8</td>\n",
       "      <td>1</td>\n",
       "      <td>1</td>\n",
       "      <td>FiberOptic</td>\n",
       "      <td>0</td>\n",
       "      <td>0</td>\n",
       "      <td>1</td>\n",
       "      <td>0</td>\n",
       "      <td>1</td>\n",
       "      <td>1</td>\n",
       "      <td>M2M</td>\n",
       "      <td>1</td>\n",
       "      <td>echeck</td>\n",
       "      <td>99.65</td>\n",
       "      <td>820.50</td>\n",
       "    </tr>\n",
       "    <tr>\n",
       "      <th>7892-POOKP</th>\n",
       "      <td>Female</td>\n",
       "      <td>0</td>\n",
       "      <td>1</td>\n",
       "      <td>1</td>\n",
       "      <td>28</td>\n",
       "      <td>1</td>\n",
       "      <td>1</td>\n",
       "      <td>FiberOptic</td>\n",
       "      <td>0</td>\n",
       "      <td>0</td>\n",
       "      <td>1</td>\n",
       "      <td>1</td>\n",
       "      <td>1</td>\n",
       "      <td>1</td>\n",
       "      <td>M2M</td>\n",
       "      <td>1</td>\n",
       "      <td>echeck</td>\n",
       "      <td>104.80</td>\n",
       "      <td>3046.05</td>\n",
       "    </tr>\n",
       "    <tr>\n",
       "      <th>0280-XJGEX</th>\n",
       "      <td>Male</td>\n",
       "      <td>0</td>\n",
       "      <td>0</td>\n",
       "      <td>1</td>\n",
       "      <td>49</td>\n",
       "      <td>1</td>\n",
       "      <td>1</td>\n",
       "      <td>FiberOptic</td>\n",
       "      <td>0</td>\n",
       "      <td>1</td>\n",
       "      <td>1</td>\n",
       "      <td>0</td>\n",
       "      <td>1</td>\n",
       "      <td>1</td>\n",
       "      <td>M2M</td>\n",
       "      <td>1</td>\n",
       "      <td>transfer</td>\n",
       "      <td>103.70</td>\n",
       "      <td>5036.30</td>\n",
       "    </tr>\n",
       "  </tbody>\n",
       "</table>\n",
       "</div>"
      ],
      "text/plain": [
       "            Gender  SeniorCitizen  Partner  Dependents  TenureMonths  \\\n",
       "CustomerID                                                             \n",
       "3668-QPYBK    Male              0        0           0             2   \n",
       "9237-HQITU  Female              0        0           1             2   \n",
       "9305-CDSKC  Female              0        0           1             8   \n",
       "7892-POOKP  Female              0        1           1            28   \n",
       "0280-XJGEX    Male              0        0           1            49   \n",
       "\n",
       "            PhoneService  MultipleLines InternetService  OnlineSecurity  \\\n",
       "CustomerID                                                                \n",
       "3668-QPYBK             1              0             DSL               1   \n",
       "9237-HQITU             1              0      FiberOptic               0   \n",
       "9305-CDSKC             1              1      FiberOptic               0   \n",
       "7892-POOKP             1              1      FiberOptic               0   \n",
       "0280-XJGEX             1              1      FiberOptic               0   \n",
       "\n",
       "            OnlineBackup  DeviceProtection  TechSupport  StreamingTV  \\\n",
       "CustomerID                                                             \n",
       "3668-QPYBK             1                 0            0            0   \n",
       "9237-HQITU             0                 0            0            0   \n",
       "9305-CDSKC             0                 1            0            1   \n",
       "7892-POOKP             0                 1            1            1   \n",
       "0280-XJGEX             1                 1            0            1   \n",
       "\n",
       "            StreamingMovies Contract  PaperlessBilling PaymentMethod  \\\n",
       "CustomerID                                                             \n",
       "3668-QPYBK                0      M2M                 1        mcheck   \n",
       "9237-HQITU                0      M2M                 1        echeck   \n",
       "9305-CDSKC                1      M2M                 1        echeck   \n",
       "7892-POOKP                1      M2M                 1        echeck   \n",
       "0280-XJGEX                1      M2M                 1      transfer   \n",
       "\n",
       "            MonthlyCharges  TotalCharges  \n",
       "CustomerID                                \n",
       "3668-QPYBK           53.85        108.15  \n",
       "9237-HQITU           70.70        151.65  \n",
       "9305-CDSKC           99.65        820.50  \n",
       "7892-POOKP          104.80       3046.05  \n",
       "0280-XJGEX          103.70       5036.30  "
      ]
     },
     "execution_count": 11,
     "metadata": {},
     "output_type": "execute_result"
    }
   ],
   "source": [
    "# Display values after encoding\n",
    "input_data.head()"
   ]
  },
  {
   "cell_type": "markdown",
   "metadata": {},
   "source": [
    "## Model Building (Decision Tree)"
   ]
  },
  {
   "cell_type": "code",
   "execution_count": 12,
   "metadata": {},
   "outputs": [],
   "source": [
    "# Define preprocessing pipeline. Reminder that the binary features have already been encoded and thus only passed through\n",
    "# TASK: Match the list of features to the correct encoding operation. \n",
    "# Remember to add the library imports for ColumnTransformer, StandardScaler, OneHotEncoder to the imports above\n",
    "preprocess = ColumnTransformer(\n",
    "    transformers=[\n",
    "        ('standardscaler', StandardScaler(), num_features),\n",
    "        ('onehotencoder', OneHotEncoder(), cat_features)\n",
    "    ],\n",
    "    remainder='passthrough'\n",
    ")"
   ]
  },
  {
   "cell_type": "code",
   "execution_count": 13,
   "metadata": {},
   "outputs": [],
   "source": [
    "# TASK: Complete the pipeline by adding the Decision Tree\n",
    "pipeline = make_pipeline(\n",
    "    preprocess,\n",
    "    DecisionTreeClassifier(random_state=42)\n",
    ")"
   ]
  },
  {
   "cell_type": "code",
   "execution_count": 14,
   "metadata": {},
   "outputs": [
    {
     "data": {
      "text/plain": [
       "{'columntransformer': ColumnTransformer(remainder='passthrough',\n",
       "                   transformers=[('standardscaler', StandardScaler(),\n",
       "                                  ['TenureMonths', 'MonthlyCharges',\n",
       "                                   'TotalCharges']),\n",
       "                                 ('onehotencoder', OneHotEncoder(),\n",
       "                                  ['Gender', 'InternetService', 'Contract',\n",
       "                                   'PaymentMethod'])]),\n",
       " 'decisiontreeclassifier': DecisionTreeClassifier(random_state=42)}"
      ]
     },
     "execution_count": 14,
     "metadata": {},
     "output_type": "execute_result"
    }
   ],
   "source": [
    "pipeline.named_steps"
   ]
  },
  {
   "cell_type": "code",
   "execution_count": 15,
   "metadata": {},
   "outputs": [],
   "source": [
    "# TASK: Define the parameters for the grid search\n",
    "params = {\n",
    "    'decisiontreeclassifier__max_depth': [3,4,5,6],\n",
    "    'decisiontreeclassifier__min_samples_leaf': [0.04, 0.06, 0.08],\n",
    "    'decisiontreeclassifier__max_features': [0.2, 0.4, 0.6, 0.8]\n",
    "}"
   ]
  },
  {
   "cell_type": "code",
   "execution_count": 16,
   "metadata": {},
   "outputs": [],
   "source": [
    "model = GridSearchCV(estimator=pipeline,\n",
    "                         param_grid=params,\n",
    "                         scoring='balanced_accuracy',\n",
    "                         cv=5,\n",
    "                         n_jobs=-1)"
   ]
  },
  {
   "cell_type": "code",
   "execution_count": 17,
   "metadata": {},
   "outputs": [],
   "source": [
    "# Train/Test Split\n",
    "# TASK: Split the data into 70:30 train/test. Use the random_state=42\n",
    "x_train, x_test, y_train, y_test = train_test_split(input_data, output_var, test_size=0.3, random_state=42)"
   ]
  },
  {
   "cell_type": "code",
   "execution_count": 18,
   "metadata": {},
   "outputs": [
    {
     "data": {
      "text/plain": [
       "GridSearchCV(cv=5,\n",
       "             estimator=Pipeline(steps=[('columntransformer',\n",
       "                                        ColumnTransformer(remainder='passthrough',\n",
       "                                                          transformers=[('standardscaler',\n",
       "                                                                         StandardScaler(),\n",
       "                                                                         ['TenureMonths',\n",
       "                                                                          'MonthlyCharges',\n",
       "                                                                          'TotalCharges']),\n",
       "                                                                        ('onehotencoder',\n",
       "                                                                         OneHotEncoder(),\n",
       "                                                                         ['Gender',\n",
       "                                                                          'InternetService',\n",
       "                                                                          'Contract',\n",
       "                                                                          'PaymentMethod'])])),\n",
       "                                       ('decisiontreeclassifier',\n",
       "                                        DecisionTreeClassifier(random_state=42))]),\n",
       "             n_jobs=-1,\n",
       "             param_grid={'decisiontreeclassifier__max_depth': [3, 4, 5, 6],\n",
       "                         'decisiontreeclassifier__max_features': [0.2, 0.4, 0.6,\n",
       "                                                                  0.8],\n",
       "                         'decisiontreeclassifier__min_samples_leaf': [0.04,\n",
       "                                                                      0.06,\n",
       "                                                                      0.08]},\n",
       "             scoring='balanced_accuracy')"
      ]
     },
     "execution_count": 18,
     "metadata": {},
     "output_type": "execute_result"
    }
   ],
   "source": [
    "# Train the pipeline. You can add a semi-colon (';') at the end of the line to supresses the output printing\n",
    "model.fit(x_train, y_train)"
   ]
  },
  {
   "cell_type": "code",
   "execution_count": 19,
   "metadata": {},
   "outputs": [
    {
     "name": "stdout",
     "output_type": "stream",
     "text": [
      "Best hyperparameters:\n",
      "{'decisiontreeclassifier__max_depth': 3, 'decisiontreeclassifier__max_features': 0.4, 'decisiontreeclassifier__min_samples_leaf': 0.08}\n"
     ]
    }
   ],
   "source": [
    "# TASK\n",
    "print(\"Best hyperparameters:\\n{}\".format(model.best_params_))"
   ]
  },
  {
   "cell_type": "code",
   "execution_count": 20,
   "metadata": {},
   "outputs": [
    {
     "name": "stdout",
     "output_type": "stream",
     "text": [
      "Best Accuracy:\n",
      "0.7021746413198938\n"
     ]
    }
   ],
   "source": [
    "# TASK\n",
    "print(\"Best Accuracy:\\n{}\".format(model.best_score_))"
   ]
  },
  {
   "cell_type": "markdown",
   "metadata": {},
   "source": [
    "### Evaluation (Decision Tree)\n",
    "\n",
    "For regression problems, we are familiar with common metrics such as Root Means Square Error (RMSE) and the Coefficient of Determination (R<sup>2</sup> value).\n",
    "\n",
    "With classification problems, we need a different set of metrics to evaluate the model. Here, we use metrics such as:\n",
    "\n",
    "- Confusion Matrix\n",
    "- Precision\n",
    "- Recall\n",
    "- F1 score\n",
    "- ROC and AUC\n",
    "\n",
    "Read the following blog posts to get familiar with these terms:\n",
    "\n",
    "- https://hackernoon.com/idiots-guide-to-precision-recall-and-confusion-matrix-b32d36463556\n",
    "- https://towardsdatascience.com/accuracy-precision-recall-or-f1-331fb37c5cb9\n",
    "\n",
    "Once you are done, proceed to the next cells.\n"
   ]
  },
  {
   "cell_type": "code",
   "execution_count": 21,
   "metadata": {},
   "outputs": [],
   "source": [
    "# Apply the model on the test data\n",
    "pred_test = model.predict(x_test)"
   ]
  },
  {
   "cell_type": "code",
   "execution_count": 22,
   "metadata": {},
   "outputs": [],
   "source": [
    "# TASK: Import the following metrics from scikit-learn in the library imports section above\n",
    "# confusion_matrix, accuracy_score, precision, recall, f1_score, classification_report, roc_curve, auc\n",
    "# Note that all these functions have the same parameter profile i.e. the first parameter contains the actual values while the second parameter contains the predicted values from the model."
   ]
  },
  {
   "cell_type": "code",
   "execution_count": 23,
   "metadata": {},
   "outputs": [
    {
     "name": "stdout",
     "output_type": "stream",
     "text": [
      "[[1286  236]\n",
      " [ 224  364]]\n"
     ]
    }
   ],
   "source": [
    "# TASK: Calculate the confusion matrix\n",
    "cm = confusion_matrix(y_test, pred_test)\n",
    "print(cm)"
   ]
  },
  {
   "cell_type": "code",
   "execution_count": 24,
   "metadata": {},
   "outputs": [
    {
     "data": {
      "image/png": "[encoded data removed]",
      "text/plain": [
       "<Figure size 432x288 with 2 Axes>"
      ]
     },
     "metadata": {
      "needs_background": "light"
     },
     "output_type": "display_data"
    }
   ],
   "source": [
    "# Confusion Matrices typically are displayed in a graphical manner. Run this cell to display the matrix using this code snippet found online.\n",
    "labels = ['No','Yes']\n",
    "ax= plt.subplot()\n",
    "sn.heatmap(cm, annot=True, ax = ax, fmt=\"d\"); #annot=True to annotate cells\n",
    "\n",
    "# labels, title and ticks\n",
    "ax.set_xlabel('Predicted labels');ax.set_ylabel('True labels'); \n",
    "ax.set_title('Confusion Matrix'); \n",
    "ax.xaxis.set_ticklabels(labels); ax.yaxis.set_ticklabels(labels)\n",
    "plt.savefig(fname=\"confusion.png\")\n",
    "plt.show()"
   ]
  },
  {
   "cell_type": "code",
   "execution_count": 25,
   "metadata": {},
   "outputs": [
    {
     "name": "stdout",
     "output_type": "stream",
     "text": [
      "Accuracy: 0.78199\n"
     ]
    }
   ],
   "source": [
    "# TASK: Calculate the 4 following metrics using the correct function\n",
    "# OPTIONAL: Calculate these metrics by hand (using the formulas in the reference blog posts) to validate the values\n",
    "\n",
    "# 1. Accuracy = Sum of correctly predicted outcomes divided by total number of samples\n",
    "accuracy = accuracy_score(y_test, pred_test)\n",
    "print(\"Accuracy: {:.5f}\".format(accuracy))"
   ]
  },
  {
   "cell_type": "code",
   "execution_count": 26,
   "metadata": {},
   "outputs": [
    {
     "name": "stdout",
     "output_type": "stream",
     "text": [
      "Precision: 0.60667\n"
     ]
    }
   ],
   "source": [
    "# 2. Precision - Of those predicted positive, how many of them are actual positive.\n",
    "precision = precision_score(y_test, pred_test)\n",
    "print(\"Precision: {:.5f}\".format(precision))"
   ]
  },
  {
   "cell_type": "code",
   "execution_count": 27,
   "metadata": {},
   "outputs": [
    {
     "name": "stdout",
     "output_type": "stream",
     "text": [
      "Recall: 0.61905\n"
     ]
    }
   ],
   "source": [
    "# 3. Recall - how many of the actual positives our model is predicting as positives\n",
    "recall = recall_score(y_test, pred_test)\n",
    "print(\"Recall: {:.5f}\".format(recall))"
   ]
  },
  {
   "cell_type": "code",
   "execution_count": 28,
   "metadata": {},
   "outputs": [
    {
     "name": "stdout",
     "output_type": "stream",
     "text": [
      "F1 Score: 0.61279\n"
     ]
    }
   ],
   "source": [
    "# 4. F1 score\n",
    "f1 = f1_score(y_test, pred_test)\n",
    "print(\"F1 Score: {:.5f}\".format(f1))"
   ]
  },
  {
   "cell_type": "code",
   "execution_count": 29,
   "metadata": {},
   "outputs": [
    {
     "name": "stdout",
     "output_type": "stream",
     "text": [
      "              precision    recall  f1-score   support\n",
      "\n",
      "           0    0.85166   0.84494   0.84828      1522\n",
      "           1    0.60667   0.61905   0.61279       588\n",
      "\n",
      "    accuracy                        0.78199      2110\n",
      "   macro avg    0.72916   0.73199   0.73054      2110\n",
      "weighted avg    0.78338   0.78199   0.78266      2110\n",
      "\n"
     ]
    }
   ],
   "source": [
    "# Alternatively, we can calculate all these metrics in one call using the classification_report function\n",
    "print(classification_report(y_test, pred_test, digits=5))"
   ]
  },
  {
   "cell_type": "markdown",
   "metadata": {},
   "source": [
    "At this point, take a step back and try to understand these numbers. \n",
    "\n",
    "- What do these metrics mean in the context of the problem? \n",
    "- Which error (Type 1 or Type 2) is more important for this problem? And thus which metric is more important, Precision or Recall?"
   ]
  },
  {
   "cell_type": "code",
   "execution_count": 30,
   "metadata": {},
   "outputs": [],
   "source": [
    "# TASK: Compute ROC and AUC. Note that roc_curve() returns 3 values. You will only need the first 2 as input to auc()\n",
    "fpr, tpr, _ = roc_curve(y_test, pred_test)\n",
    "roc_auc = auc(fpr, tpr)"
   ]
  },
  {
   "cell_type": "code",
   "execution_count": 31,
   "metadata": {},
   "outputs": [
    {
     "data": {
      "image/png": "[encoded data removed]",
      "text/plain": [
       "<Figure size 432x288 with 1 Axes>"
      ]
     },
     "metadata": {
      "needs_background": "light"
     },
     "output_type": "display_data"
    }
   ],
   "source": [
    "# Run this cell to plot the ROC curve\n",
    "plt.figure()\n",
    "plt.plot(fpr, tpr, color='darkorange',\n",
    "         lw=2, label='ROC curve (area = %0.2f)' % roc_auc)\n",
    "plt.plot([0, 1], [0, 1], color='navy', lw=2, linestyle='--')\n",
    "plt.xlim([0.0, 1.0])\n",
    "plt.ylim([0.0, 1.05])\n",
    "plt.xlabel('False Positive Rate')\n",
    "plt.ylabel('True Positive Rate')\n",
    "plt.title('Receiver operating characteristic curve')\n",
    "plt.legend(loc=\"lower right\")\n",
    "plt.show()"
   ]
  },
  {
   "cell_type": "markdown",
   "metadata": {},
   "source": [
    "## Model Building (Random Forest)"
   ]
  },
  {
   "cell_type": "code",
   "execution_count": 32,
   "metadata": {},
   "outputs": [],
   "source": [
    "# TASK: Complete the pipeline by the Random Forest\n",
    "pipeline2 = make_pipeline(\n",
    "    preprocess,\n",
    "    RandomForestClassifier(random_state=42)\n",
    ")"
   ]
  },
  {
   "cell_type": "code",
   "execution_count": 33,
   "metadata": {},
   "outputs": [
    {
     "data": {
      "text/plain": [
       "{'columntransformer': ColumnTransformer(remainder='passthrough',\n",
       "                   transformers=[('standardscaler', StandardScaler(),\n",
       "                                  ['TenureMonths', 'MonthlyCharges',\n",
       "                                   'TotalCharges']),\n",
       "                                 ('onehotencoder', OneHotEncoder(),\n",
       "                                  ['Gender', 'InternetService', 'Contract',\n",
       "                                   'PaymentMethod'])]),\n",
       " 'randomforestclassifier': RandomForestClassifier(random_state=42)}"
      ]
     },
     "execution_count": 33,
     "metadata": {},
     "output_type": "execute_result"
    }
   ],
   "source": [
    "pipeline2.named_steps"
   ]
  },
  {
   "cell_type": "code",
   "execution_count": 34,
   "metadata": {},
   "outputs": [],
   "source": [
    "# Define the parameter search range for RF\n",
    "params2 = {\n",
    "    'randomforestclassifier__n_estimators': [200,300,400,500],\n",
    "    'randomforestclassifier__max_depth': [3,4,5,6],\n",
    "    'randomforestclassifier__min_samples_leaf': [0.04, 0.06, 0.08],\n",
    "    'randomforestclassifier__max_features': [0.2, 0.4, 0.6, 0.8]\n",
    "}"
   ]
  },
  {
   "cell_type": "code",
   "execution_count": 35,
   "metadata": {},
   "outputs": [],
   "source": [
    "model2 = GridSearchCV(estimator=pipeline2,\n",
    "                         param_grid=params2,\n",
    "                         scoring='balanced_accuracy',\n",
    "                         cv=5,\n",
    "                         n_jobs=-1)"
   ]
  },
  {
   "cell_type": "code",
   "execution_count": 36,
   "metadata": {},
   "outputs": [
    {
     "data": {
      "text/plain": [
       "GridSearchCV(cv=5,\n",
       "             estimator=Pipeline(steps=[('columntransformer',\n",
       "                                        ColumnTransformer(remainder='passthrough',\n",
       "                                                          transformers=[('standardscaler',\n",
       "                                                                         StandardScaler(),\n",
       "                                                                         ['TenureMonths',\n",
       "                                                                          'MonthlyCharges',\n",
       "                                                                          'TotalCharges']),\n",
       "                                                                        ('onehotencoder',\n",
       "                                                                         OneHotEncoder(),\n",
       "                                                                         ['Gender',\n",
       "                                                                          'InternetService',\n",
       "                                                                          'Contract',\n",
       "                                                                          'PaymentMethod'])])),\n",
       "                                       ('randomforestclassifier',\n",
       "                                        RandomForestClassifier(random_state=42))]),\n",
       "             n_jobs=-1,\n",
       "             param_grid={'randomforestclassifier__max_depth': [3, 4, 5, 6],\n",
       "                         'randomforestclassifier__max_features': [0.2, 0.4, 0.6,\n",
       "                                                                  0.8],\n",
       "                         'randomforestclassifier__min_samples_leaf': [0.04,\n",
       "                                                                      0.06,\n",
       "                                                                      0.08],\n",
       "                         'randomforestclassifier__n_estimators': [200, 300, 400,\n",
       "                                                                  500]},\n",
       "             scoring='balanced_accuracy')"
      ]
     },
     "execution_count": 36,
     "metadata": {},
     "output_type": "execute_result"
    }
   ],
   "source": [
    "model2.fit(x_train, y_train)"
   ]
  },
  {
   "cell_type": "code",
   "execution_count": 37,
   "metadata": {},
   "outputs": [
    {
     "name": "stdout",
     "output_type": "stream",
     "text": [
      "Best hyperparameters:\n",
      "{'randomforestclassifier__max_depth': 6, 'randomforestclassifier__max_features': 0.8, 'randomforestclassifier__min_samples_leaf': 0.04, 'randomforestclassifier__n_estimators': 500}\n"
     ]
    }
   ],
   "source": [
    "print(\"Best hyperparameters:\\n{}\".format(model2.best_params_))"
   ]
  },
  {
   "cell_type": "code",
   "execution_count": 38,
   "metadata": {},
   "outputs": [
    {
     "name": "stdout",
     "output_type": "stream",
     "text": [
      "Best Accuracy:\n",
      "0.6609250235976214\n"
     ]
    }
   ],
   "source": [
    "print(\"Best Accuracy:\\n{}\".format(model2.best_score_))"
   ]
  },
  {
   "cell_type": "code",
   "execution_count": 39,
   "metadata": {},
   "outputs": [],
   "source": [
    "# Apply the model on the test data\n",
    "pred_test2 = model2.predict(x_test)"
   ]
  },
  {
   "cell_type": "code",
   "execution_count": 40,
   "metadata": {},
   "outputs": [
    {
     "name": "stdout",
     "output_type": "stream",
     "text": [
      "[[1443   79]\n",
      " [ 350  238]]\n"
     ]
    }
   ],
   "source": [
    "# TASK: Calculate the confusion matrix\n",
    "cm2 = confusion_matrix(y_test, pred_test2)\n",
    "print(cm2)"
   ]
  },
  {
   "cell_type": "code",
   "execution_count": 41,
   "metadata": {},
   "outputs": [
    {
     "name": "stdout",
     "output_type": "stream",
     "text": [
      "Accuracy: 0.79668\n"
     ]
    }
   ],
   "source": [
    "# TASK: Calculate the 4 following metrics using the correct function\n",
    "# OPTIONAL: Calculate these metrics by hand (using the formulas in the reference blog posts) to validate the values\n",
    "\n",
    "# 1. Accuracy = Sum of correctly predicted outcomes divided by total number of samples\n",
    "accuracy2 = accuracy_score(y_test, pred_test2)\n",
    "print(\"Accuracy: {:.5f}\".format(accuracy2))"
   ]
  },
  {
   "cell_type": "code",
   "execution_count": 42,
   "metadata": {},
   "outputs": [
    {
     "data": {
      "image/png": "[encoded data removed]",
      "text/plain": [
       "<Figure size 432x288 with 1 Axes>"
      ]
     },
     "metadata": {
      "needs_background": "light"
     },
     "output_type": "display_data"
    }
   ],
   "source": [
    "# TASK: Compute ROC and AUC. Note that roc_curve() returns 3 values. You will only need the first 2 as input to auc()\n",
    "fpr2, tpr2, _ = roc_curve(y_test, pred_test2)\n",
    "roc_auc2 = auc(fpr2, tpr2)\n",
    "\n",
    "# Run this cell to plot the ROC curve\n",
    "plt.figure()\n",
    "plt.plot(fpr2, tpr2, color='darkorange',\n",
    "         lw=2, label='ROC curve (area = %0.2f)' % roc_auc2)\n",
    "plt.plot([0, 1], [0, 1], color='navy', lw=2, linestyle='--')\n",
    "plt.xlim([0.0, 1.0])\n",
    "plt.ylim([0.0, 1.05])\n",
    "plt.xlabel('False Positive Rate')\n",
    "plt.ylabel('True Positive Rate')\n",
    "plt.title('Receiver operating characteristic curve')\n",
    "plt.legend(loc=\"lower right\")\n",
    "plt.show()"
   ]
  }
 ],
 "metadata": {
  "interpreter": {
   "hash": "821ed89d40833114557fa9506fa74e8e348a324e22d9cd4f19b42fa0fd4257a1"
  },
  "kernelspec": {
   "display_name": "Python 3.8.3 64-bit",
   "name": "python3"
  },
  "language_info": {
   "codemirror_mode": {
    "name": "ipython",
    "version": 3
   },
   "file_extension": ".py",
   "mimetype": "text/x-python",
   "name": "python",
   "nbconvert_exporter": "python",
   "pygments_lexer": "ipython3",
   "version": "3.8.3"
  }
 },
 "nbformat": 4,
 "nbformat_minor": 4
}